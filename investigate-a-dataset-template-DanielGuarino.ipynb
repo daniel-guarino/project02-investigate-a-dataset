{
 "cells": [
  {
   "cell_type": "markdown",
   "metadata": {},
   "source": [
    "# Project: Investigate a Dataset - Macroeconomical indicators analysis\n",
    "\n",
    "## Table of Contents\n",
    "<ul>\n",
    "<li><a href=\"#intro\">Introduction</a></li>\n",
    "<li><a href=\"#wrangling\">Data Wrangling</a></li>\n",
    "<li><a href=\"#eda\">Exploratory Data Analysis</a></li>\n",
    "<li><a href=\"#conclusions\">Conclusions</a></li>\n",
    "</ul>"
   ]
  },
  {
   "cell_type": "markdown",
   "metadata": {},
   "source": [
    "<a id='intro'></a>\n",
    "## Introduction\n",
    "\n",
    "**Student:** Daniel Guarino\n",
    "\n",
    "**Tools:** Python 3 \n",
    "\n",
    "**Used Libraries:** Pandas, Numpy, Seaborn, Matplotlib \n",
    "\n",
    "> **Summary:**\n",
    "\n",
    "> In this report economical data from Gapminder World will be analysed for South American countries. These datasets\n",
    "> were downloaded from the link (https://www.gapminder.org/data/) in the section \"data currently used list of indicators\".\n",
    "> The selected categories were all from the \"Economic\" branch:\n",
    "\n",
    "> **--Economical Situation:** Inflation\n",
    "\n",
    "> **--Incomes & Growth:** Total GDP PPP$ Inflaction Adjusted and Total Gini\n",
    ">\n",
    ">\n",
    "> A brief conceptual explanation about each selected indicator is made following:\n",
    "\n",
    "> **-GDP:** Gross domestic product (GDP) is a monetary measure of the market value of all the final goods and services produced in a specific time period, often annually. (Source: Wikipedia)\n",
    "\n",
    "> **-Inflation:** Often expressed as a percentage, inflation indicates a decrease in the purchasing power of a nation's currency. (Source: Investopedia)\n",
    "\n",
    "> **-GINI Index:** Is a measure of statistical dispersion intended to represent the income or wealth distribution of a nation's residents, and is the most commonly used measurement of inequality. (Source: Wikipedia)\n",
    ">\n",
    "> **Data pre-treatment:**\n",
    "> Three excel spreadsheet files (xlsx) were downloaded from the website cited above. After that a filter was made in order to select just South American countries: Argentina, Bolivia, Brazil, Chile, Colombia, Ecuador, Paraguay, Peru, Uruguay and Venezuela (10 Countries in total).\n",
    "> Then a csv file was generated from the excel spreadsheet in order allow these data to be analyzed on Python libraries.\n",
    "\n",
    "> **An important observation is about Venezuelan data:** Their government didn't publish any economical indicator from 2015 to 2017, so these values were considered \"Nan\" in the original dataset for GDP and Inflation. To contour this I have selected these data from IMF (International Monetary Fund) (https://oglobo.globo.com/economia/economia-da-venezuela-deve-ter-queda-de-15-em-2018-com-inflacao-de-13000-diz-fmi-22328250) estimate and from an El País report in 29th, 2019. (https://brasil.elpais.com/brasil/2019/05/29/economia/1559099315_404810.html). This handmade data filling was made on Excel, so no missing data will be found in any dataset when analysed on Python."
   ]
  },
  {
   "cell_type": "code",
   "execution_count": 1,
   "metadata": {},
   "outputs": [],
   "source": [
    "import pandas as pd\n",
    "import numpy as np\n",
    "import seaborn as sns\n",
    "import matplotlib.pyplot as plt\n",
    "\n",
    "%matplotlib inline"
   ]
  },
  {
   "cell_type": "markdown",
   "metadata": {},
   "source": [
    "<a id='wrangling'></a>\n",
    "## Data Wrangling\n",
    "\n",
    "\n",
    "### General Properties"
   ]
  },
  {
   "cell_type": "code",
   "execution_count": 2,
   "metadata": {},
   "outputs": [],
   "source": [
    "df_world = pd.read_csv('total_gdp_us_inflation_adjusted.csv', sep = ';')\n",
    "df_south = pd.read_csv('south_america_gdp_us_inflation_adjusted.csv', sep = ';')\n",
    "df_inflt = pd.read_csv('inflation_annual_percent.csv', sep = ';')\n",
    "df_gini  = pd.read_csv('gini.csv', sep = ';')"
   ]
  },
  {
   "cell_type": "code",
   "execution_count": 3,
   "metadata": {},
   "outputs": [
    {
     "data": {
      "text/html": [
       "<div>\n",
       "<style scoped>\n",
       "    .dataframe tbody tr th:only-of-type {\n",
       "        vertical-align: middle;\n",
       "    }\n",
       "\n",
       "    .dataframe tbody tr th {\n",
       "        vertical-align: top;\n",
       "    }\n",
       "\n",
       "    .dataframe thead th {\n",
       "        text-align: right;\n",
       "    }\n",
       "</style>\n",
       "<table border=\"1\" class=\"dataframe\">\n",
       "  <thead>\n",
       "    <tr style=\"text-align: right;\">\n",
       "      <th></th>\n",
       "      <th>year</th>\n",
       "      <th>total_world_ gdp</th>\n",
       "      <th>total_samerica_gdp</th>\n",
       "    </tr>\n",
       "  </thead>\n",
       "  <tbody>\n",
       "    <tr>\n",
       "      <th>0</th>\n",
       "      <td>1960</td>\n",
       "      <td>9.012424</td>\n",
       "      <td>0.58777</td>\n",
       "    </tr>\n",
       "    <tr>\n",
       "      <th>1</th>\n",
       "      <td>1961</td>\n",
       "      <td>9.409674</td>\n",
       "      <td>0.62991</td>\n",
       "    </tr>\n",
       "    <tr>\n",
       "      <th>2</th>\n",
       "      <td>1962</td>\n",
       "      <td>9.929296</td>\n",
       "      <td>0.65874</td>\n",
       "    </tr>\n",
       "  </tbody>\n",
       "</table>\n",
       "</div>"
      ],
      "text/plain": [
       "   year  total_world_ gdp  total_samerica_gdp\n",
       "0  1960          9.012424             0.58777\n",
       "1  1961          9.409674             0.62991\n",
       "2  1962          9.929296             0.65874"
      ]
     },
     "execution_count": 3,
     "metadata": {},
     "output_type": "execute_result"
    }
   ],
   "source": [
    "# Just see each DataFrame\n",
    "df_world.head(3)"
   ]
  },
  {
   "cell_type": "code",
   "execution_count": 4,
   "metadata": {},
   "outputs": [
    {
     "data": {
      "text/html": [
       "<div>\n",
       "<style scoped>\n",
       "    .dataframe tbody tr th:only-of-type {\n",
       "        vertical-align: middle;\n",
       "    }\n",
       "\n",
       "    .dataframe tbody tr th {\n",
       "        vertical-align: top;\n",
       "    }\n",
       "\n",
       "    .dataframe thead th {\n",
       "        text-align: right;\n",
       "    }\n",
       "</style>\n",
       "<table border=\"1\" class=\"dataframe\">\n",
       "  <thead>\n",
       "    <tr style=\"text-align: right;\">\n",
       "      <th></th>\n",
       "      <th>country</th>\n",
       "      <th>Argentina</th>\n",
       "      <th>Bolivia</th>\n",
       "      <th>Brazil</th>\n",
       "      <th>Chile</th>\n",
       "      <th>Colombia</th>\n",
       "      <th>Ecuador</th>\n",
       "      <th>Paraguay</th>\n",
       "      <th>Peru</th>\n",
       "      <th>Uruguay</th>\n",
       "      <th>Venezuela</th>\n",
       "    </tr>\n",
       "  </thead>\n",
       "  <tbody>\n",
       "    <tr>\n",
       "      <th>0</th>\n",
       "      <td>1960</td>\n",
       "      <td>116000000000</td>\n",
       "      <td>4820000000</td>\n",
       "      <td>247000000000</td>\n",
       "      <td>29400000000</td>\n",
       "      <td>36500000000</td>\n",
       "      <td>10200000000</td>\n",
       "      <td>1950000000</td>\n",
       "      <td>27000000000</td>\n",
       "      <td>13900000000</td>\n",
       "      <td>101000000000</td>\n",
       "    </tr>\n",
       "    <tr>\n",
       "      <th>1</th>\n",
       "      <td>1961</td>\n",
       "      <td>122000000000</td>\n",
       "      <td>4920000000</td>\n",
       "      <td>273000000000</td>\n",
       "      <td>30900000000</td>\n",
       "      <td>38400000000</td>\n",
       "      <td>10400000000</td>\n",
       "      <td>2090000000</td>\n",
       "      <td>29000000000</td>\n",
       "      <td>14200000000</td>\n",
       "      <td>105000000000</td>\n",
       "    </tr>\n",
       "    <tr>\n",
       "      <th>2</th>\n",
       "      <td>1962</td>\n",
       "      <td>121000000000</td>\n",
       "      <td>5190000000</td>\n",
       "      <td>287000000000</td>\n",
       "      <td>32200000000</td>\n",
       "      <td>40500000000</td>\n",
       "      <td>10800000000</td>\n",
       "      <td>2150000000</td>\n",
       "      <td>31900000000</td>\n",
       "      <td>14000000000</td>\n",
       "      <td>114000000000</td>\n",
       "    </tr>\n",
       "  </tbody>\n",
       "</table>\n",
       "</div>"
      ],
      "text/plain": [
       "   country     Argentina     Bolivia        Brazil        Chile     Colombia  \\\n",
       "0     1960  116000000000  4820000000  247000000000  29400000000  36500000000   \n",
       "1     1961  122000000000  4920000000  273000000000  30900000000  38400000000   \n",
       "2     1962  121000000000  5190000000  287000000000  32200000000  40500000000   \n",
       "\n",
       "       Ecuador    Paraguay         Peru      Uruguay     Venezuela  \n",
       "0  10200000000  1950000000  27000000000  13900000000  101000000000  \n",
       "1  10400000000  2090000000  29000000000  14200000000  105000000000  \n",
       "2  10800000000  2150000000  31900000000  14000000000  114000000000  "
      ]
     },
     "execution_count": 4,
     "metadata": {},
     "output_type": "execute_result"
    }
   ],
   "source": [
    "df_south.head(3)"
   ]
  },
  {
   "cell_type": "code",
   "execution_count": 5,
   "metadata": {},
   "outputs": [
    {
     "data": {
      "text/html": [
       "<div>\n",
       "<style scoped>\n",
       "    .dataframe tbody tr th:only-of-type {\n",
       "        vertical-align: middle;\n",
       "    }\n",
       "\n",
       "    .dataframe tbody tr th {\n",
       "        vertical-align: top;\n",
       "    }\n",
       "\n",
       "    .dataframe thead th {\n",
       "        text-align: right;\n",
       "    }\n",
       "</style>\n",
       "<table border=\"1\" class=\"dataframe\">\n",
       "  <thead>\n",
       "    <tr style=\"text-align: right;\">\n",
       "      <th></th>\n",
       "      <th>country</th>\n",
       "      <th>Argentina</th>\n",
       "      <th>Bolivia</th>\n",
       "      <th>Brazil</th>\n",
       "      <th>Chile</th>\n",
       "      <th>Colombia</th>\n",
       "      <th>Ecuador</th>\n",
       "      <th>Paraguay</th>\n",
       "      <th>Peru</th>\n",
       "      <th>Uruguay</th>\n",
       "      <th>Venezuela</th>\n",
       "    </tr>\n",
       "  </thead>\n",
       "  <tbody>\n",
       "    <tr>\n",
       "      <th>0</th>\n",
       "      <td>1961</td>\n",
       "      <td>20.3</td>\n",
       "      <td>6.56</td>\n",
       "      <td>31.3</td>\n",
       "      <td>6.57</td>\n",
       "      <td>8.08</td>\n",
       "      <td>4.98</td>\n",
       "      <td>6.68</td>\n",
       "      <td>3.10</td>\n",
       "      <td>18.4</td>\n",
       "      <td>0.469</td>\n",
       "    </tr>\n",
       "    <tr>\n",
       "      <th>1</th>\n",
       "      <td>1962</td>\n",
       "      <td>28.9</td>\n",
       "      <td>3.57</td>\n",
       "      <td>78.8</td>\n",
       "      <td>12.90</td>\n",
       "      <td>6.58</td>\n",
       "      <td>2.15</td>\n",
       "      <td>8.42</td>\n",
       "      <td>3.01</td>\n",
       "      <td>12.0</td>\n",
       "      <td>1.940</td>\n",
       "    </tr>\n",
       "    <tr>\n",
       "      <th>2</th>\n",
       "      <td>1963</td>\n",
       "      <td>25.6</td>\n",
       "      <td>1.18</td>\n",
       "      <td>69.8</td>\n",
       "      <td>43.80</td>\n",
       "      <td>23.40</td>\n",
       "      <td>4.28</td>\n",
       "      <td>1.55</td>\n",
       "      <td>5.01</td>\n",
       "      <td>19.9</td>\n",
       "      <td>3.950</td>\n",
       "    </tr>\n",
       "  </tbody>\n",
       "</table>\n",
       "</div>"
      ],
      "text/plain": [
       "   country  Argentina  Bolivia  Brazil  Chile  Colombia  Ecuador  Paraguay  \\\n",
       "0     1961       20.3     6.56    31.3   6.57      8.08     4.98      6.68   \n",
       "1     1962       28.9     3.57    78.8  12.90      6.58     2.15      8.42   \n",
       "2     1963       25.6     1.18    69.8  43.80     23.40     4.28      1.55   \n",
       "\n",
       "   Peru  Uruguay  Venezuela  \n",
       "0  3.10     18.4      0.469  \n",
       "1  3.01     12.0      1.940  \n",
       "2  5.01     19.9      3.950  "
      ]
     },
     "execution_count": 5,
     "metadata": {},
     "output_type": "execute_result"
    }
   ],
   "source": [
    "df_inflt.head(3)"
   ]
  },
  {
   "cell_type": "code",
   "execution_count": 6,
   "metadata": {},
   "outputs": [
    {
     "data": {
      "text/html": [
       "<div>\n",
       "<style scoped>\n",
       "    .dataframe tbody tr th:only-of-type {\n",
       "        vertical-align: middle;\n",
       "    }\n",
       "\n",
       "    .dataframe tbody tr th {\n",
       "        vertical-align: top;\n",
       "    }\n",
       "\n",
       "    .dataframe thead th {\n",
       "        text-align: right;\n",
       "    }\n",
       "</style>\n",
       "<table border=\"1\" class=\"dataframe\">\n",
       "  <thead>\n",
       "    <tr style=\"text-align: right;\">\n",
       "      <th></th>\n",
       "      <th>country</th>\n",
       "      <th>Argentina</th>\n",
       "      <th>Bolivia</th>\n",
       "      <th>Brazil</th>\n",
       "      <th>Chile</th>\n",
       "      <th>Colombia</th>\n",
       "      <th>Ecuador</th>\n",
       "      <th>Paraguay</th>\n",
       "      <th>Peru</th>\n",
       "      <th>Uruguay</th>\n",
       "      <th>Venezuela</th>\n",
       "    </tr>\n",
       "  </thead>\n",
       "  <tbody>\n",
       "    <tr>\n",
       "      <th>0</th>\n",
       "      <td>1960</td>\n",
       "      <td>41.4</td>\n",
       "      <td>45.1</td>\n",
       "      <td>44.3</td>\n",
       "      <td>68.0</td>\n",
       "      <td>62.3</td>\n",
       "      <td>41.9</td>\n",
       "      <td>40.8</td>\n",
       "      <td>57.1</td>\n",
       "      <td>47.0</td>\n",
       "      <td>63.1</td>\n",
       "    </tr>\n",
       "    <tr>\n",
       "      <th>1</th>\n",
       "      <td>1961</td>\n",
       "      <td>41.4</td>\n",
       "      <td>46.2</td>\n",
       "      <td>44.8</td>\n",
       "      <td>68.6</td>\n",
       "      <td>62.5</td>\n",
       "      <td>41.9</td>\n",
       "      <td>40.8</td>\n",
       "      <td>57.5</td>\n",
       "      <td>46.4</td>\n",
       "      <td>63.4</td>\n",
       "    </tr>\n",
       "    <tr>\n",
       "      <th>2</th>\n",
       "      <td>1962</td>\n",
       "      <td>41.5</td>\n",
       "      <td>47.1</td>\n",
       "      <td>45.2</td>\n",
       "      <td>68.2</td>\n",
       "      <td>62.3</td>\n",
       "      <td>41.9</td>\n",
       "      <td>40.8</td>\n",
       "      <td>57.4</td>\n",
       "      <td>45.9</td>\n",
       "      <td>63.7</td>\n",
       "    </tr>\n",
       "  </tbody>\n",
       "</table>\n",
       "</div>"
      ],
      "text/plain": [
       "   country  Argentina  Bolivia  Brazil  Chile  Colombia  Ecuador  Paraguay  \\\n",
       "0     1960       41.4     45.1    44.3   68.0      62.3     41.9      40.8   \n",
       "1     1961       41.4     46.2    44.8   68.6      62.5     41.9      40.8   \n",
       "2     1962       41.5     47.1    45.2   68.2      62.3     41.9      40.8   \n",
       "\n",
       "   Peru  Uruguay  Venezuela  \n",
       "0  57.1     47.0       63.1  \n",
       "1  57.5     46.4       63.4  \n",
       "2  57.4     45.9       63.7  "
      ]
     },
     "execution_count": 6,
     "metadata": {},
     "output_type": "execute_result"
    }
   ],
   "source": [
    "df_gini.head(3)"
   ]
  },
  {
   "cell_type": "markdown",
   "metadata": {},
   "source": [
    "> **Checking possible problems with data:**\n",
    "\n",
    "> 1)number of samples \n",
    "\n",
    "> 2)the number of columns \n",
    "\n",
    "> 3)if we have missing data\n",
    "\n",
    "> 4)duplicated data\n",
    "\n",
    "> 5)if the type of each column data is correct for each DataFrame"
   ]
  },
  {
   "cell_type": "code",
   "execution_count": 7,
   "metadata": {},
   "outputs": [
    {
     "name": "stdout",
     "output_type": "stream",
     "text": [
      "<class 'pandas.core.frame.DataFrame'>\n",
      "RangeIndex: 58 entries, 0 to 57\n",
      "Data columns (total 3 columns):\n",
      "year                  58 non-null int64\n",
      "total_world_ gdp      58 non-null float64\n",
      "total_samerica_gdp    58 non-null float64\n",
      "dtypes: float64(2), int64(1)\n",
      "memory usage: 1.4 KB\n"
     ]
    }
   ],
   "source": [
    "# sum of World GDP x sum of South America GDP DataFrame:\n",
    "# sample, number of columns, missing data and data type:\n",
    "df_world.info()"
   ]
  },
  {
   "cell_type": "markdown",
   "metadata": {},
   "source": [
    " **World GDP dataset:**\n",
    "\n",
    " no missing data\n",
    "\n",
    " 03 columnns \n",
    "\n",
    " 58 years of sample data\n",
    "\n",
    " data type is float for all columns which is suitable for the purpose of this dataset"
   ]
  },
  {
   "cell_type": "code",
   "execution_count": 8,
   "metadata": {},
   "outputs": [
    {
     "data": {
      "text/plain": [
       "0"
      ]
     },
     "execution_count": 8,
     "metadata": {},
     "output_type": "execute_result"
    }
   ],
   "source": [
    "# duplicated data:\n",
    "sum(df_world.duplicated())"
   ]
  },
  {
   "cell_type": "markdown",
   "metadata": {},
   "source": [
    "> no duplicated data in this dataset"
   ]
  },
  {
   "cell_type": "code",
   "execution_count": 9,
   "metadata": {},
   "outputs": [
    {
     "name": "stdout",
     "output_type": "stream",
     "text": [
      "<class 'pandas.core.frame.DataFrame'>\n",
      "RangeIndex: 58 entries, 0 to 57\n",
      "Data columns (total 11 columns):\n",
      "country      58 non-null int64\n",
      "Argentina    58 non-null int64\n",
      "Bolivia      58 non-null int64\n",
      "Brazil       58 non-null int64\n",
      "Chile        58 non-null int64\n",
      "Colombia     58 non-null int64\n",
      "Ecuador      58 non-null int64\n",
      "Paraguay     58 non-null int64\n",
      "Peru         58 non-null int64\n",
      "Uruguay      58 non-null int64\n",
      "Venezuela    58 non-null int64\n",
      "dtypes: int64(11)\n",
      "memory usage: 5.1 KB\n"
     ]
    }
   ],
   "source": [
    "# South America GDP DataFrame:\n",
    "# sample, number of columns and data type:\n",
    "df_south.info()"
   ]
  },
  {
   "cell_type": "markdown",
   "metadata": {},
   "source": [
    " **South America GDP:**\n",
    "\n",
    " no missing data\n",
    "\n",
    " 11 columnns \n",
    "\n",
    " 58 years of sample data\n",
    "\n",
    " data type is integer for all columns which is suitable for the purpose of this dataset"
   ]
  },
  {
   "cell_type": "code",
   "execution_count": 10,
   "metadata": {},
   "outputs": [
    {
     "data": {
      "text/plain": [
       "0"
      ]
     },
     "execution_count": 10,
     "metadata": {},
     "output_type": "execute_result"
    }
   ],
   "source": [
    "# duplicated data:\n",
    "sum(df_south.duplicated())"
   ]
  },
  {
   "cell_type": "markdown",
   "metadata": {},
   "source": [
    "> no duplicated data in this dataset"
   ]
  },
  {
   "cell_type": "code",
   "execution_count": 11,
   "metadata": {},
   "outputs": [
    {
     "name": "stdout",
     "output_type": "stream",
     "text": [
      "<class 'pandas.core.frame.DataFrame'>\n",
      "RangeIndex: 57 entries, 0 to 56\n",
      "Data columns (total 11 columns):\n",
      "country      57 non-null int64\n",
      "Argentina    57 non-null float64\n",
      "Bolivia      57 non-null float64\n",
      "Brazil       57 non-null float64\n",
      "Chile        57 non-null float64\n",
      "Colombia     57 non-null float64\n",
      "Ecuador      57 non-null float64\n",
      "Paraguay     57 non-null float64\n",
      "Peru         57 non-null float64\n",
      "Uruguay      57 non-null float64\n",
      "Venezuela    57 non-null float64\n",
      "dtypes: float64(10), int64(1)\n",
      "memory usage: 5.0 KB\n"
     ]
    }
   ],
   "source": [
    "# South America Inflation DataFrame:\n",
    "# sample, number of columns and data type:\n",
    "df_inflt.info()"
   ]
  },
  {
   "cell_type": "markdown",
   "metadata": {},
   "source": [
    " **Inflation dataset:**\n",
    "\n",
    " no missing data\n",
    "\n",
    " 03 columnns \n",
    "\n",
    " 57 years of sample data (one less than World GDP and South America GDP )\n",
    "\n",
    " data type is float for all columns which is ok for this case"
   ]
  },
  {
   "cell_type": "code",
   "execution_count": 12,
   "metadata": {},
   "outputs": [
    {
     "data": {
      "text/plain": [
       "0"
      ]
     },
     "execution_count": 12,
     "metadata": {},
     "output_type": "execute_result"
    }
   ],
   "source": [
    "# duplicated data:\n",
    "sum(df_inflt.duplicated())"
   ]
  },
  {
   "cell_type": "markdown",
   "metadata": {},
   "source": [
    "> no duplicated data in this dataset"
   ]
  },
  {
   "cell_type": "code",
   "execution_count": 13,
   "metadata": {},
   "outputs": [
    {
     "name": "stdout",
     "output_type": "stream",
     "text": [
      "<class 'pandas.core.frame.DataFrame'>\n",
      "RangeIndex: 58 entries, 0 to 57\n",
      "Data columns (total 11 columns):\n",
      "country      58 non-null int64\n",
      "Argentina    58 non-null float64\n",
      "Bolivia      58 non-null float64\n",
      "Brazil       58 non-null float64\n",
      "Chile        58 non-null float64\n",
      "Colombia     58 non-null float64\n",
      "Ecuador      58 non-null float64\n",
      "Paraguay     58 non-null float64\n",
      "Peru         58 non-null float64\n",
      "Uruguay      58 non-null float64\n",
      "Venezuela    58 non-null float64\n",
      "dtypes: float64(10), int64(1)\n",
      "memory usage: 5.1 KB\n"
     ]
    }
   ],
   "source": [
    "# South America GINI index DataFrame:\n",
    "# sample, number of columns and data type:\n",
    "df_gini.info()"
   ]
  },
  {
   "cell_type": "markdown",
   "metadata": {},
   "source": [
    " **GINI Index dataset:**\n",
    "\n",
    " no missing data\n",
    "\n",
    " 03 columnns \n",
    "\n",
    " 58 years of sample data\n",
    "\n",
    " data type is float for all columns which is ok for this case"
   ]
  },
  {
   "cell_type": "code",
   "execution_count": 14,
   "metadata": {},
   "outputs": [
    {
     "data": {
      "text/plain": [
       "0"
      ]
     },
     "execution_count": 14,
     "metadata": {},
     "output_type": "execute_result"
    }
   ],
   "source": [
    "# duplicated data:\n",
    "sum(df_gini.duplicated()) "
   ]
  },
  {
   "cell_type": "markdown",
   "metadata": {},
   "source": [
    "> no duplicated data for this dataset"
   ]
  },
  {
   "cell_type": "markdown",
   "metadata": {},
   "source": [
    "### Data Cleaning : ###\n",
    "> **Data structure conclusions:**\n",
    "    \n",
    "> Inflation dataset has 57 sample while the others datasets have 58 samples\n",
    "\n",
    "> drop the first row from the World GDP, South America GDP DataFrame is needed\n",
    "\n",
    "> so we have all DataFrames with the same number of samples!"
   ]
  },
  {
   "cell_type": "code",
   "execution_count": 15,
   "metadata": {},
   "outputs": [
    {
     "data": {
      "text/html": [
       "<div>\n",
       "<style scoped>\n",
       "    .dataframe tbody tr th:only-of-type {\n",
       "        vertical-align: middle;\n",
       "    }\n",
       "\n",
       "    .dataframe tbody tr th {\n",
       "        vertical-align: top;\n",
       "    }\n",
       "\n",
       "    .dataframe thead th {\n",
       "        text-align: right;\n",
       "    }\n",
       "</style>\n",
       "<table border=\"1\" class=\"dataframe\">\n",
       "  <thead>\n",
       "    <tr style=\"text-align: right;\">\n",
       "      <th></th>\n",
       "      <th>country</th>\n",
       "      <th>Argentina</th>\n",
       "      <th>Bolivia</th>\n",
       "      <th>Brazil</th>\n",
       "      <th>Chile</th>\n",
       "      <th>Colombia</th>\n",
       "      <th>Ecuador</th>\n",
       "      <th>Paraguay</th>\n",
       "      <th>Peru</th>\n",
       "      <th>Uruguay</th>\n",
       "      <th>Venezuela</th>\n",
       "    </tr>\n",
       "  </thead>\n",
       "  <tbody>\n",
       "    <tr>\n",
       "      <th>0</th>\n",
       "      <td>1961</td>\n",
       "      <td>20.3</td>\n",
       "      <td>6.56</td>\n",
       "      <td>31.3</td>\n",
       "      <td>6.57</td>\n",
       "      <td>8.08</td>\n",
       "      <td>4.98</td>\n",
       "      <td>6.68</td>\n",
       "      <td>3.1</td>\n",
       "      <td>18.4</td>\n",
       "      <td>0.469</td>\n",
       "    </tr>\n",
       "  </tbody>\n",
       "</table>\n",
       "</div>"
      ],
      "text/plain": [
       "   country  Argentina  Bolivia  Brazil  Chile  Colombia  Ecuador  Paraguay  \\\n",
       "0     1961       20.3     6.56    31.3   6.57      8.08     4.98      6.68   \n",
       "\n",
       "   Peru  Uruguay  Venezuela  \n",
       "0   3.1     18.4      0.469  "
      ]
     },
     "execution_count": 15,
     "metadata": {},
     "output_type": "execute_result"
    }
   ],
   "source": [
    "# the inflation data starts at 1961\n",
    "df_inflt.head(1)"
   ]
  },
  {
   "cell_type": "code",
   "execution_count": 16,
   "metadata": {},
   "outputs": [
    {
     "data": {
      "text/html": [
       "<div>\n",
       "<style scoped>\n",
       "    .dataframe tbody tr th:only-of-type {\n",
       "        vertical-align: middle;\n",
       "    }\n",
       "\n",
       "    .dataframe tbody tr th {\n",
       "        vertical-align: top;\n",
       "    }\n",
       "\n",
       "    .dataframe thead th {\n",
       "        text-align: right;\n",
       "    }\n",
       "</style>\n",
       "<table border=\"1\" class=\"dataframe\">\n",
       "  <thead>\n",
       "    <tr style=\"text-align: right;\">\n",
       "      <th></th>\n",
       "      <th>year</th>\n",
       "      <th>total_world_ gdp</th>\n",
       "      <th>total_samerica_gdp</th>\n",
       "    </tr>\n",
       "  </thead>\n",
       "  <tbody>\n",
       "    <tr>\n",
       "      <th>0</th>\n",
       "      <td>1960</td>\n",
       "      <td>9.012424</td>\n",
       "      <td>0.58777</td>\n",
       "    </tr>\n",
       "  </tbody>\n",
       "</table>\n",
       "</div>"
      ],
      "text/plain": [
       "   year  total_world_ gdp  total_samerica_gdp\n",
       "0  1960          9.012424             0.58777"
      ]
     },
     "execution_count": 16,
     "metadata": {},
     "output_type": "execute_result"
    }
   ],
   "source": [
    "# the others start at 1960\n",
    "df_world.head(1)"
   ]
  },
  {
   "cell_type": "code",
   "execution_count": 17,
   "metadata": {},
   "outputs": [
    {
     "data": {
      "text/html": [
       "<div>\n",
       "<style scoped>\n",
       "    .dataframe tbody tr th:only-of-type {\n",
       "        vertical-align: middle;\n",
       "    }\n",
       "\n",
       "    .dataframe tbody tr th {\n",
       "        vertical-align: top;\n",
       "    }\n",
       "\n",
       "    .dataframe thead th {\n",
       "        text-align: right;\n",
       "    }\n",
       "</style>\n",
       "<table border=\"1\" class=\"dataframe\">\n",
       "  <thead>\n",
       "    <tr style=\"text-align: right;\">\n",
       "      <th></th>\n",
       "      <th>country</th>\n",
       "      <th>Argentina</th>\n",
       "      <th>Bolivia</th>\n",
       "      <th>Brazil</th>\n",
       "      <th>Chile</th>\n",
       "      <th>Colombia</th>\n",
       "      <th>Ecuador</th>\n",
       "      <th>Paraguay</th>\n",
       "      <th>Peru</th>\n",
       "      <th>Uruguay</th>\n",
       "      <th>Venezuela</th>\n",
       "    </tr>\n",
       "  </thead>\n",
       "  <tbody>\n",
       "    <tr>\n",
       "      <th>0</th>\n",
       "      <td>1960</td>\n",
       "      <td>116000000000</td>\n",
       "      <td>4820000000</td>\n",
       "      <td>247000000000</td>\n",
       "      <td>29400000000</td>\n",
       "      <td>36500000000</td>\n",
       "      <td>10200000000</td>\n",
       "      <td>1950000000</td>\n",
       "      <td>27000000000</td>\n",
       "      <td>13900000000</td>\n",
       "      <td>101000000000</td>\n",
       "    </tr>\n",
       "  </tbody>\n",
       "</table>\n",
       "</div>"
      ],
      "text/plain": [
       "   country     Argentina     Bolivia        Brazil        Chile     Colombia  \\\n",
       "0     1960  116000000000  4820000000  247000000000  29400000000  36500000000   \n",
       "\n",
       "       Ecuador    Paraguay         Peru      Uruguay     Venezuela  \n",
       "0  10200000000  1950000000  27000000000  13900000000  101000000000  "
      ]
     },
     "execution_count": 17,
     "metadata": {},
     "output_type": "execute_result"
    }
   ],
   "source": [
    "df_south.head(1)"
   ]
  },
  {
   "cell_type": "code",
   "execution_count": 18,
   "metadata": {},
   "outputs": [
    {
     "data": {
      "text/html": [
       "<div>\n",
       "<style scoped>\n",
       "    .dataframe tbody tr th:only-of-type {\n",
       "        vertical-align: middle;\n",
       "    }\n",
       "\n",
       "    .dataframe tbody tr th {\n",
       "        vertical-align: top;\n",
       "    }\n",
       "\n",
       "    .dataframe thead th {\n",
       "        text-align: right;\n",
       "    }\n",
       "</style>\n",
       "<table border=\"1\" class=\"dataframe\">\n",
       "  <thead>\n",
       "    <tr style=\"text-align: right;\">\n",
       "      <th></th>\n",
       "      <th>country</th>\n",
       "      <th>Argentina</th>\n",
       "      <th>Bolivia</th>\n",
       "      <th>Brazil</th>\n",
       "      <th>Chile</th>\n",
       "      <th>Colombia</th>\n",
       "      <th>Ecuador</th>\n",
       "      <th>Paraguay</th>\n",
       "      <th>Peru</th>\n",
       "      <th>Uruguay</th>\n",
       "      <th>Venezuela</th>\n",
       "    </tr>\n",
       "  </thead>\n",
       "  <tbody>\n",
       "    <tr>\n",
       "      <th>0</th>\n",
       "      <td>1960</td>\n",
       "      <td>41.4</td>\n",
       "      <td>45.1</td>\n",
       "      <td>44.3</td>\n",
       "      <td>68.0</td>\n",
       "      <td>62.3</td>\n",
       "      <td>41.9</td>\n",
       "      <td>40.8</td>\n",
       "      <td>57.1</td>\n",
       "      <td>47.0</td>\n",
       "      <td>63.1</td>\n",
       "    </tr>\n",
       "  </tbody>\n",
       "</table>\n",
       "</div>"
      ],
      "text/plain": [
       "   country  Argentina  Bolivia  Brazil  Chile  Colombia  Ecuador  Paraguay  \\\n",
       "0     1960       41.4     45.1    44.3   68.0      62.3     41.9      40.8   \n",
       "\n",
       "   Peru  Uruguay  Venezuela  \n",
       "0  57.1     47.0       63.1  "
      ]
     },
     "execution_count": 18,
     "metadata": {},
     "output_type": "execute_result"
    }
   ],
   "source": [
    "df_gini.head(1)"
   ]
  },
  {
   "cell_type": "markdown",
   "metadata": {},
   "source": [
    "* all the others datasets start at the year of 1960, so we need to drop the first row for the world GDP, South america and Gini index dataset in order to equalize the number of samples for the four datasets:"
   ]
  },
  {
   "cell_type": "code",
   "execution_count": 19,
   "metadata": {},
   "outputs": [],
   "source": [
    "df_world.drop([0], axis = 0, inplace = True)\n",
    "df_south.drop([0], axis = 0, inplace = True)\n",
    "df_gini.drop([0], axis = 0, inplace = True)"
   ]
  },
  {
   "cell_type": "code",
   "execution_count": 20,
   "metadata": {},
   "outputs": [
    {
     "data": {
      "text/html": [
       "<div>\n",
       "<style scoped>\n",
       "    .dataframe tbody tr th:only-of-type {\n",
       "        vertical-align: middle;\n",
       "    }\n",
       "\n",
       "    .dataframe tbody tr th {\n",
       "        vertical-align: top;\n",
       "    }\n",
       "\n",
       "    .dataframe thead th {\n",
       "        text-align: right;\n",
       "    }\n",
       "</style>\n",
       "<table border=\"1\" class=\"dataframe\">\n",
       "  <thead>\n",
       "    <tr style=\"text-align: right;\">\n",
       "      <th></th>\n",
       "      <th>year</th>\n",
       "      <th>total_world_ gdp</th>\n",
       "      <th>total_samerica_gdp</th>\n",
       "    </tr>\n",
       "  </thead>\n",
       "  <tbody>\n",
       "    <tr>\n",
       "      <th>1</th>\n",
       "      <td>1961</td>\n",
       "      <td>9.409674</td>\n",
       "      <td>0.62991</td>\n",
       "    </tr>\n",
       "  </tbody>\n",
       "</table>\n",
       "</div>"
      ],
      "text/plain": [
       "   year  total_world_ gdp  total_samerica_gdp\n",
       "1  1961          9.409674             0.62991"
      ]
     },
     "execution_count": 20,
     "metadata": {},
     "output_type": "execute_result"
    }
   ],
   "source": [
    "# check\n",
    "df_world.head(1)"
   ]
  },
  {
   "cell_type": "code",
   "execution_count": 21,
   "metadata": {},
   "outputs": [
    {
     "data": {
      "text/html": [
       "<div>\n",
       "<style scoped>\n",
       "    .dataframe tbody tr th:only-of-type {\n",
       "        vertical-align: middle;\n",
       "    }\n",
       "\n",
       "    .dataframe tbody tr th {\n",
       "        vertical-align: top;\n",
       "    }\n",
       "\n",
       "    .dataframe thead th {\n",
       "        text-align: right;\n",
       "    }\n",
       "</style>\n",
       "<table border=\"1\" class=\"dataframe\">\n",
       "  <thead>\n",
       "    <tr style=\"text-align: right;\">\n",
       "      <th></th>\n",
       "      <th>country</th>\n",
       "      <th>Argentina</th>\n",
       "      <th>Bolivia</th>\n",
       "      <th>Brazil</th>\n",
       "      <th>Chile</th>\n",
       "      <th>Colombia</th>\n",
       "      <th>Ecuador</th>\n",
       "      <th>Paraguay</th>\n",
       "      <th>Peru</th>\n",
       "      <th>Uruguay</th>\n",
       "      <th>Venezuela</th>\n",
       "    </tr>\n",
       "  </thead>\n",
       "  <tbody>\n",
       "    <tr>\n",
       "      <th>1</th>\n",
       "      <td>1961</td>\n",
       "      <td>122000000000</td>\n",
       "      <td>4920000000</td>\n",
       "      <td>273000000000</td>\n",
       "      <td>30900000000</td>\n",
       "      <td>38400000000</td>\n",
       "      <td>10400000000</td>\n",
       "      <td>2090000000</td>\n",
       "      <td>29000000000</td>\n",
       "      <td>14200000000</td>\n",
       "      <td>105000000000</td>\n",
       "    </tr>\n",
       "  </tbody>\n",
       "</table>\n",
       "</div>"
      ],
      "text/plain": [
       "   country     Argentina     Bolivia        Brazil        Chile     Colombia  \\\n",
       "1     1961  122000000000  4920000000  273000000000  30900000000  38400000000   \n",
       "\n",
       "       Ecuador    Paraguay         Peru      Uruguay     Venezuela  \n",
       "1  10400000000  2090000000  29000000000  14200000000  105000000000  "
      ]
     },
     "execution_count": 21,
     "metadata": {},
     "output_type": "execute_result"
    }
   ],
   "source": [
    "df_south.head(1)"
   ]
  },
  {
   "cell_type": "code",
   "execution_count": 22,
   "metadata": {},
   "outputs": [
    {
     "data": {
      "text/html": [
       "<div>\n",
       "<style scoped>\n",
       "    .dataframe tbody tr th:only-of-type {\n",
       "        vertical-align: middle;\n",
       "    }\n",
       "\n",
       "    .dataframe tbody tr th {\n",
       "        vertical-align: top;\n",
       "    }\n",
       "\n",
       "    .dataframe thead th {\n",
       "        text-align: right;\n",
       "    }\n",
       "</style>\n",
       "<table border=\"1\" class=\"dataframe\">\n",
       "  <thead>\n",
       "    <tr style=\"text-align: right;\">\n",
       "      <th></th>\n",
       "      <th>country</th>\n",
       "      <th>Argentina</th>\n",
       "      <th>Bolivia</th>\n",
       "      <th>Brazil</th>\n",
       "      <th>Chile</th>\n",
       "      <th>Colombia</th>\n",
       "      <th>Ecuador</th>\n",
       "      <th>Paraguay</th>\n",
       "      <th>Peru</th>\n",
       "      <th>Uruguay</th>\n",
       "      <th>Venezuela</th>\n",
       "    </tr>\n",
       "  </thead>\n",
       "  <tbody>\n",
       "    <tr>\n",
       "      <th>1</th>\n",
       "      <td>1961</td>\n",
       "      <td>41.4</td>\n",
       "      <td>46.2</td>\n",
       "      <td>44.8</td>\n",
       "      <td>68.6</td>\n",
       "      <td>62.5</td>\n",
       "      <td>41.9</td>\n",
       "      <td>40.8</td>\n",
       "      <td>57.5</td>\n",
       "      <td>46.4</td>\n",
       "      <td>63.4</td>\n",
       "    </tr>\n",
       "  </tbody>\n",
       "</table>\n",
       "</div>"
      ],
      "text/plain": [
       "   country  Argentina  Bolivia  Brazil  Chile  Colombia  Ecuador  Paraguay  \\\n",
       "1     1961       41.4     46.2    44.8   68.6      62.5     41.9      40.8   \n",
       "\n",
       "   Peru  Uruguay  Venezuela  \n",
       "1  57.5     46.4       63.4  "
      ]
     },
     "execution_count": 22,
     "metadata": {},
     "output_type": "execute_result"
    }
   ],
   "source": [
    "df_gini.head(1)"
   ]
  },
  {
   "cell_type": "code",
   "execution_count": 23,
   "metadata": {},
   "outputs": [
    {
     "data": {
      "text/html": [
       "<div>\n",
       "<style scoped>\n",
       "    .dataframe tbody tr th:only-of-type {\n",
       "        vertical-align: middle;\n",
       "    }\n",
       "\n",
       "    .dataframe tbody tr th {\n",
       "        vertical-align: top;\n",
       "    }\n",
       "\n",
       "    .dataframe thead th {\n",
       "        text-align: right;\n",
       "    }\n",
       "</style>\n",
       "<table border=\"1\" class=\"dataframe\">\n",
       "  <thead>\n",
       "    <tr style=\"text-align: right;\">\n",
       "      <th></th>\n",
       "      <th>country</th>\n",
       "      <th>Argentina</th>\n",
       "      <th>Bolivia</th>\n",
       "      <th>Brazil</th>\n",
       "      <th>Chile</th>\n",
       "      <th>Colombia</th>\n",
       "      <th>Ecuador</th>\n",
       "      <th>Paraguay</th>\n",
       "      <th>Peru</th>\n",
       "      <th>Uruguay</th>\n",
       "      <th>Venezuela</th>\n",
       "    </tr>\n",
       "  </thead>\n",
       "  <tbody>\n",
       "    <tr>\n",
       "      <th>0</th>\n",
       "      <td>1961</td>\n",
       "      <td>20.3</td>\n",
       "      <td>6.56</td>\n",
       "      <td>31.3</td>\n",
       "      <td>6.57</td>\n",
       "      <td>8.08</td>\n",
       "      <td>4.98</td>\n",
       "      <td>6.68</td>\n",
       "      <td>3.1</td>\n",
       "      <td>18.4</td>\n",
       "      <td>0.469</td>\n",
       "    </tr>\n",
       "  </tbody>\n",
       "</table>\n",
       "</div>"
      ],
      "text/plain": [
       "   country  Argentina  Bolivia  Brazil  Chile  Colombia  Ecuador  Paraguay  \\\n",
       "0     1961       20.3     6.56    31.3   6.57      8.08     4.98      6.68   \n",
       "\n",
       "   Peru  Uruguay  Venezuela  \n",
       "0   3.1     18.4      0.469  "
      ]
     },
     "execution_count": 23,
     "metadata": {},
     "output_type": "execute_result"
    }
   ],
   "source": [
    "df_inflt.head(1)"
   ]
  },
  {
   "cell_type": "markdown",
   "metadata": {},
   "source": [
    "** rename columns** using small letters and **add the code** gdp, inf and gin to each column to disguinsh data, also **change the column name** 'country' to year"
   ]
  },
  {
   "cell_type": "code",
   "execution_count": 24,
   "metadata": {},
   "outputs": [],
   "source": [
    "cols_gdp   = ['year','arg_gdp', 'bol_gdp', 'bra_gdp', 'chi_gdp', 'col_gdp','ecu_gdp', 'par_gdp', 'per_gdp', 'uru_gdp', 'ven_gdp']\n",
    "cols_inflt = ['year','arg_inf', 'bol_inf', 'bra_inf', 'chi_inf', 'col_inf','ecu_inf', 'par_inf', 'per_inf', 'uru_inf', 'ven_inf']\n",
    "cols_gini  = ['year','arg_gin', 'bol_gin', 'bra_gin', 'chi_gin', 'col_gin','ecu_gin', 'par_gin', 'per_gin', 'uru_gin', 'ven_gin']\n",
    "df_south.rename(columns=dict(zip(df_south.columns, cols_gdp)),inplace=True)\n",
    "df_inflt.rename(columns=dict(zip(df_inflt.columns, cols_inflt)), inplace=True)\n",
    "df_gini.rename(columns=dict(zip(df_gini.columns, cols_gini)), inplace=True)"
   ]
  },
  {
   "cell_type": "markdown",
   "metadata": {},
   "source": [
    "** index problem!** after removing the first row on World GDP, South America GDP and Gini Index Datasets I choose set the column year as index from 1961 to 2017 at these three datasets:"
   ]
  },
  {
   "cell_type": "code",
   "execution_count": 25,
   "metadata": {},
   "outputs": [],
   "source": [
    "df_world.set_index(['year'], inplace = True)\n",
    "df_south.set_index(['year'], inplace = True)\n",
    "df_inflt.set_index(['year'], inplace = True)\n",
    "df_gini.set_index(['year'], inplace = True)"
   ]
  },
  {
   "cell_type": "code",
   "execution_count": 26,
   "metadata": {},
   "outputs": [
    {
     "data": {
      "text/html": [
       "<div>\n",
       "<style scoped>\n",
       "    .dataframe tbody tr th:only-of-type {\n",
       "        vertical-align: middle;\n",
       "    }\n",
       "\n",
       "    .dataframe tbody tr th {\n",
       "        vertical-align: top;\n",
       "    }\n",
       "\n",
       "    .dataframe thead th {\n",
       "        text-align: right;\n",
       "    }\n",
       "</style>\n",
       "<table border=\"1\" class=\"dataframe\">\n",
       "  <thead>\n",
       "    <tr style=\"text-align: right;\">\n",
       "      <th></th>\n",
       "      <th>total_world_ gdp</th>\n",
       "      <th>total_samerica_gdp</th>\n",
       "    </tr>\n",
       "    <tr>\n",
       "      <th>year</th>\n",
       "      <th></th>\n",
       "      <th></th>\n",
       "    </tr>\n",
       "  </thead>\n",
       "  <tbody>\n",
       "    <tr>\n",
       "      <th>1961</th>\n",
       "      <td>9.409674</td>\n",
       "      <td>0.62991</td>\n",
       "    </tr>\n",
       "    <tr>\n",
       "      <th>1962</th>\n",
       "      <td>9.929296</td>\n",
       "      <td>0.65874</td>\n",
       "    </tr>\n",
       "    <tr>\n",
       "      <th>1963</th>\n",
       "      <td>10.444524</td>\n",
       "      <td>0.66309</td>\n",
       "    </tr>\n",
       "  </tbody>\n",
       "</table>\n",
       "</div>"
      ],
      "text/plain": [
       "      total_world_ gdp  total_samerica_gdp\n",
       "year                                      \n",
       "1961          9.409674             0.62991\n",
       "1962          9.929296             0.65874\n",
       "1963         10.444524             0.66309"
      ]
     },
     "execution_count": 26,
     "metadata": {},
     "output_type": "execute_result"
    }
   ],
   "source": [
    "# check index correction\n",
    "df_world.head(3)"
   ]
  },
  {
   "cell_type": "code",
   "execution_count": 27,
   "metadata": {},
   "outputs": [
    {
     "data": {
      "text/html": [
       "<div>\n",
       "<style scoped>\n",
       "    .dataframe tbody tr th:only-of-type {\n",
       "        vertical-align: middle;\n",
       "    }\n",
       "\n",
       "    .dataframe tbody tr th {\n",
       "        vertical-align: top;\n",
       "    }\n",
       "\n",
       "    .dataframe thead th {\n",
       "        text-align: right;\n",
       "    }\n",
       "</style>\n",
       "<table border=\"1\" class=\"dataframe\">\n",
       "  <thead>\n",
       "    <tr style=\"text-align: right;\">\n",
       "      <th></th>\n",
       "      <th>arg_gdp</th>\n",
       "      <th>bol_gdp</th>\n",
       "      <th>bra_gdp</th>\n",
       "      <th>chi_gdp</th>\n",
       "      <th>col_gdp</th>\n",
       "      <th>ecu_gdp</th>\n",
       "      <th>par_gdp</th>\n",
       "      <th>per_gdp</th>\n",
       "      <th>uru_gdp</th>\n",
       "      <th>ven_gdp</th>\n",
       "    </tr>\n",
       "    <tr>\n",
       "      <th>year</th>\n",
       "      <th></th>\n",
       "      <th></th>\n",
       "      <th></th>\n",
       "      <th></th>\n",
       "      <th></th>\n",
       "      <th></th>\n",
       "      <th></th>\n",
       "      <th></th>\n",
       "      <th></th>\n",
       "      <th></th>\n",
       "    </tr>\n",
       "  </thead>\n",
       "  <tbody>\n",
       "    <tr>\n",
       "      <th>1961</th>\n",
       "      <td>122000000000</td>\n",
       "      <td>4920000000</td>\n",
       "      <td>273000000000</td>\n",
       "      <td>30900000000</td>\n",
       "      <td>38400000000</td>\n",
       "      <td>10400000000</td>\n",
       "      <td>2090000000</td>\n",
       "      <td>29000000000</td>\n",
       "      <td>14200000000</td>\n",
       "      <td>105000000000</td>\n",
       "    </tr>\n",
       "    <tr>\n",
       "      <th>1962</th>\n",
       "      <td>121000000000</td>\n",
       "      <td>5190000000</td>\n",
       "      <td>287000000000</td>\n",
       "      <td>32200000000</td>\n",
       "      <td>40500000000</td>\n",
       "      <td>10800000000</td>\n",
       "      <td>2150000000</td>\n",
       "      <td>31900000000</td>\n",
       "      <td>14000000000</td>\n",
       "      <td>114000000000</td>\n",
       "    </tr>\n",
       "    <tr>\n",
       "      <th>1963</th>\n",
       "      <td>114000000000</td>\n",
       "      <td>5530000000</td>\n",
       "      <td>289000000000</td>\n",
       "      <td>34000000000</td>\n",
       "      <td>41700000000</td>\n",
       "      <td>11300000000</td>\n",
       "      <td>2260000000</td>\n",
       "      <td>33300000000</td>\n",
       "      <td>14000000000</td>\n",
       "      <td>118000000000</td>\n",
       "    </tr>\n",
       "  </tbody>\n",
       "</table>\n",
       "</div>"
      ],
      "text/plain": [
       "           arg_gdp     bol_gdp       bra_gdp      chi_gdp      col_gdp  \\\n",
       "year                                                                     \n",
       "1961  122000000000  4920000000  273000000000  30900000000  38400000000   \n",
       "1962  121000000000  5190000000  287000000000  32200000000  40500000000   \n",
       "1963  114000000000  5530000000  289000000000  34000000000  41700000000   \n",
       "\n",
       "          ecu_gdp     par_gdp      per_gdp      uru_gdp       ven_gdp  \n",
       "year                                                                   \n",
       "1961  10400000000  2090000000  29000000000  14200000000  105000000000  \n",
       "1962  10800000000  2150000000  31900000000  14000000000  114000000000  \n",
       "1963  11300000000  2260000000  33300000000  14000000000  118000000000  "
      ]
     },
     "execution_count": 27,
     "metadata": {},
     "output_type": "execute_result"
    }
   ],
   "source": [
    "df_south.head(3)"
   ]
  },
  {
   "cell_type": "code",
   "execution_count": 28,
   "metadata": {},
   "outputs": [
    {
     "data": {
      "text/html": [
       "<div>\n",
       "<style scoped>\n",
       "    .dataframe tbody tr th:only-of-type {\n",
       "        vertical-align: middle;\n",
       "    }\n",
       "\n",
       "    .dataframe tbody tr th {\n",
       "        vertical-align: top;\n",
       "    }\n",
       "\n",
       "    .dataframe thead th {\n",
       "        text-align: right;\n",
       "    }\n",
       "</style>\n",
       "<table border=\"1\" class=\"dataframe\">\n",
       "  <thead>\n",
       "    <tr style=\"text-align: right;\">\n",
       "      <th></th>\n",
       "      <th>arg_gin</th>\n",
       "      <th>bol_gin</th>\n",
       "      <th>bra_gin</th>\n",
       "      <th>chi_gin</th>\n",
       "      <th>col_gin</th>\n",
       "      <th>ecu_gin</th>\n",
       "      <th>par_gin</th>\n",
       "      <th>per_gin</th>\n",
       "      <th>uru_gin</th>\n",
       "      <th>ven_gin</th>\n",
       "    </tr>\n",
       "    <tr>\n",
       "      <th>year</th>\n",
       "      <th></th>\n",
       "      <th></th>\n",
       "      <th></th>\n",
       "      <th></th>\n",
       "      <th></th>\n",
       "      <th></th>\n",
       "      <th></th>\n",
       "      <th></th>\n",
       "      <th></th>\n",
       "      <th></th>\n",
       "    </tr>\n",
       "  </thead>\n",
       "  <tbody>\n",
       "    <tr>\n",
       "      <th>1961</th>\n",
       "      <td>41.4</td>\n",
       "      <td>46.2</td>\n",
       "      <td>44.8</td>\n",
       "      <td>68.6</td>\n",
       "      <td>62.5</td>\n",
       "      <td>41.9</td>\n",
       "      <td>40.8</td>\n",
       "      <td>57.5</td>\n",
       "      <td>46.4</td>\n",
       "      <td>63.4</td>\n",
       "    </tr>\n",
       "    <tr>\n",
       "      <th>1962</th>\n",
       "      <td>41.5</td>\n",
       "      <td>47.1</td>\n",
       "      <td>45.2</td>\n",
       "      <td>68.2</td>\n",
       "      <td>62.3</td>\n",
       "      <td>41.9</td>\n",
       "      <td>40.8</td>\n",
       "      <td>57.4</td>\n",
       "      <td>45.9</td>\n",
       "      <td>63.7</td>\n",
       "    </tr>\n",
       "    <tr>\n",
       "      <th>1963</th>\n",
       "      <td>40.7</td>\n",
       "      <td>48.0</td>\n",
       "      <td>45.7</td>\n",
       "      <td>66.8</td>\n",
       "      <td>61.6</td>\n",
       "      <td>41.9</td>\n",
       "      <td>40.8</td>\n",
       "      <td>57.0</td>\n",
       "      <td>45.3</td>\n",
       "      <td>64.2</td>\n",
       "    </tr>\n",
       "  </tbody>\n",
       "</table>\n",
       "</div>"
      ],
      "text/plain": [
       "      arg_gin  bol_gin  bra_gin  chi_gin  col_gin  ecu_gin  par_gin  per_gin  \\\n",
       "year                                                                           \n",
       "1961     41.4     46.2     44.8     68.6     62.5     41.9     40.8     57.5   \n",
       "1962     41.5     47.1     45.2     68.2     62.3     41.9     40.8     57.4   \n",
       "1963     40.7     48.0     45.7     66.8     61.6     41.9     40.8     57.0   \n",
       "\n",
       "      uru_gin  ven_gin  \n",
       "year                    \n",
       "1961     46.4     63.4  \n",
       "1962     45.9     63.7  \n",
       "1963     45.3     64.2  "
      ]
     },
     "execution_count": 28,
     "metadata": {},
     "output_type": "execute_result"
    }
   ],
   "source": [
    "df_gini.head(3)"
   ]
  },
  {
   "cell_type": "code",
   "execution_count": 29,
   "metadata": {},
   "outputs": [
    {
     "data": {
      "text/html": [
       "<div>\n",
       "<style scoped>\n",
       "    .dataframe tbody tr th:only-of-type {\n",
       "        vertical-align: middle;\n",
       "    }\n",
       "\n",
       "    .dataframe tbody tr th {\n",
       "        vertical-align: top;\n",
       "    }\n",
       "\n",
       "    .dataframe thead th {\n",
       "        text-align: right;\n",
       "    }\n",
       "</style>\n",
       "<table border=\"1\" class=\"dataframe\">\n",
       "  <thead>\n",
       "    <tr style=\"text-align: right;\">\n",
       "      <th></th>\n",
       "      <th>arg_inf</th>\n",
       "      <th>bol_inf</th>\n",
       "      <th>bra_inf</th>\n",
       "      <th>chi_inf</th>\n",
       "      <th>col_inf</th>\n",
       "      <th>ecu_inf</th>\n",
       "      <th>par_inf</th>\n",
       "      <th>per_inf</th>\n",
       "      <th>uru_inf</th>\n",
       "      <th>ven_inf</th>\n",
       "    </tr>\n",
       "    <tr>\n",
       "      <th>year</th>\n",
       "      <th></th>\n",
       "      <th></th>\n",
       "      <th></th>\n",
       "      <th></th>\n",
       "      <th></th>\n",
       "      <th></th>\n",
       "      <th></th>\n",
       "      <th></th>\n",
       "      <th></th>\n",
       "      <th></th>\n",
       "    </tr>\n",
       "  </thead>\n",
       "  <tbody>\n",
       "    <tr>\n",
       "      <th>1961</th>\n",
       "      <td>20.3</td>\n",
       "      <td>6.56</td>\n",
       "      <td>31.3</td>\n",
       "      <td>6.57</td>\n",
       "      <td>8.08</td>\n",
       "      <td>4.98</td>\n",
       "      <td>6.68</td>\n",
       "      <td>3.10</td>\n",
       "      <td>18.4</td>\n",
       "      <td>0.469</td>\n",
       "    </tr>\n",
       "    <tr>\n",
       "      <th>1962</th>\n",
       "      <td>28.9</td>\n",
       "      <td>3.57</td>\n",
       "      <td>78.8</td>\n",
       "      <td>12.90</td>\n",
       "      <td>6.58</td>\n",
       "      <td>2.15</td>\n",
       "      <td>8.42</td>\n",
       "      <td>3.01</td>\n",
       "      <td>12.0</td>\n",
       "      <td>1.940</td>\n",
       "    </tr>\n",
       "    <tr>\n",
       "      <th>1963</th>\n",
       "      <td>25.6</td>\n",
       "      <td>1.18</td>\n",
       "      <td>69.8</td>\n",
       "      <td>43.80</td>\n",
       "      <td>23.40</td>\n",
       "      <td>4.28</td>\n",
       "      <td>1.55</td>\n",
       "      <td>5.01</td>\n",
       "      <td>19.9</td>\n",
       "      <td>3.950</td>\n",
       "    </tr>\n",
       "  </tbody>\n",
       "</table>\n",
       "</div>"
      ],
      "text/plain": [
       "      arg_inf  bol_inf  bra_inf  chi_inf  col_inf  ecu_inf  par_inf  per_inf  \\\n",
       "year                                                                           \n",
       "1961     20.3     6.56     31.3     6.57     8.08     4.98     6.68     3.10   \n",
       "1962     28.9     3.57     78.8    12.90     6.58     2.15     8.42     3.01   \n",
       "1963     25.6     1.18     69.8    43.80    23.40     4.28     1.55     5.01   \n",
       "\n",
       "      uru_inf  ven_inf  \n",
       "year                    \n",
       "1961     18.4    0.469  \n",
       "1962     12.0    1.940  \n",
       "1963     19.9    3.950  "
      ]
     },
     "execution_count": 29,
     "metadata": {},
     "output_type": "execute_result"
    }
   ],
   "source": [
    "df_inflt.head(3)"
   ]
  },
  {
   "cell_type": "markdown",
   "metadata": {},
   "source": [
    "**check is all datasets have the same sample size**"
   ]
  },
  {
   "cell_type": "code",
   "execution_count": 30,
   "metadata": {},
   "outputs": [],
   "source": [
    "assert df_inflt.shape[0] == df_world.shape[0] == df_south.shape[0] == df_gini.shape[0]"
   ]
  },
  {
   "cell_type": "markdown",
   "metadata": {},
   "source": [
    " **create a new column at World GDP Dataset in order to help future analysis **"
   ]
  },
  {
   "cell_type": "code",
   "execution_count": 31,
   "metadata": {},
   "outputs": [
    {
     "data": {
      "text/html": [
       "<div>\n",
       "<style scoped>\n",
       "    .dataframe tbody tr th:only-of-type {\n",
       "        vertical-align: middle;\n",
       "    }\n",
       "\n",
       "    .dataframe tbody tr th {\n",
       "        vertical-align: top;\n",
       "    }\n",
       "\n",
       "    .dataframe thead th {\n",
       "        text-align: right;\n",
       "    }\n",
       "</style>\n",
       "<table border=\"1\" class=\"dataframe\">\n",
       "  <thead>\n",
       "    <tr style=\"text-align: right;\">\n",
       "      <th></th>\n",
       "      <th>total_world_ gdp</th>\n",
       "      <th>total_samerica_gdp</th>\n",
       "      <th>south_share</th>\n",
       "    </tr>\n",
       "    <tr>\n",
       "      <th>year</th>\n",
       "      <th></th>\n",
       "      <th></th>\n",
       "      <th></th>\n",
       "    </tr>\n",
       "  </thead>\n",
       "  <tbody>\n",
       "    <tr>\n",
       "      <th>1961</th>\n",
       "      <td>9.409674</td>\n",
       "      <td>0.62991</td>\n",
       "      <td>6.69</td>\n",
       "    </tr>\n",
       "    <tr>\n",
       "      <th>1962</th>\n",
       "      <td>9.929296</td>\n",
       "      <td>0.65874</td>\n",
       "      <td>6.63</td>\n",
       "    </tr>\n",
       "    <tr>\n",
       "      <th>1963</th>\n",
       "      <td>10.444524</td>\n",
       "      <td>0.66309</td>\n",
       "      <td>6.35</td>\n",
       "    </tr>\n",
       "  </tbody>\n",
       "</table>\n",
       "</div>"
      ],
      "text/plain": [
       "      total_world_ gdp  total_samerica_gdp  south_share\n",
       "year                                                   \n",
       "1961          9.409674             0.62991         6.69\n",
       "1962          9.929296             0.65874         6.63\n",
       "1963         10.444524             0.66309         6.35"
      ]
     },
     "execution_count": 31,
     "metadata": {},
     "output_type": "execute_result"
    }
   ],
   "source": [
    "df_world['south_share'] = round(df_world['total_samerica_gdp'] / df_world['total_world_ gdp']*100,2)\n",
    "df_world.head(3)"
   ]
  },
  {
   "cell_type": "code",
   "execution_count": 32,
   "metadata": {},
   "outputs": [],
   "source": [
    "# create a new column with changes in the world GDP, south america GDP and the share of south american GDP\n",
    "df_world['world_gdp_changes'] = df_world['total_world_ gdp'].pct_change()\n",
    "df_world['south_gdp_changes'] = df_world['total_samerica_gdp'].pct_change()\n",
    "df_world['south_share_changes'] = df_world['south_share'].pct_change()"
   ]
  },
  {
   "cell_type": "code",
   "execution_count": 33,
   "metadata": {},
   "outputs": [],
   "source": [
    "# transform the values into a percentage value multiplying to 100 and selecting two decimal places\n",
    "df_world['world_gdp_changes'] = round(df_world['world_gdp_changes']*100,2)\n",
    "df_world['south_gdp_changes'] = round(df_world['south_gdp_changes']*100,2)\n",
    "df_world['south_share_changes'] = round(df_world['south_share_changes']*100,2)"
   ]
  },
  {
   "cell_type": "code",
   "execution_count": 34,
   "metadata": {
    "scrolled": true
   },
   "outputs": [
    {
     "data": {
      "text/html": [
       "<div>\n",
       "<style scoped>\n",
       "    .dataframe tbody tr th:only-of-type {\n",
       "        vertical-align: middle;\n",
       "    }\n",
       "\n",
       "    .dataframe tbody tr th {\n",
       "        vertical-align: top;\n",
       "    }\n",
       "\n",
       "    .dataframe thead th {\n",
       "        text-align: right;\n",
       "    }\n",
       "</style>\n",
       "<table border=\"1\" class=\"dataframe\">\n",
       "  <thead>\n",
       "    <tr style=\"text-align: right;\">\n",
       "      <th></th>\n",
       "      <th>total_world_ gdp</th>\n",
       "      <th>total_samerica_gdp</th>\n",
       "      <th>south_share</th>\n",
       "      <th>world_gdp_changes</th>\n",
       "      <th>south_gdp_changes</th>\n",
       "      <th>south_share_changes</th>\n",
       "    </tr>\n",
       "    <tr>\n",
       "      <th>year</th>\n",
       "      <th></th>\n",
       "      <th></th>\n",
       "      <th></th>\n",
       "      <th></th>\n",
       "      <th></th>\n",
       "      <th></th>\n",
       "    </tr>\n",
       "  </thead>\n",
       "  <tbody>\n",
       "    <tr>\n",
       "      <th>1961</th>\n",
       "      <td>9.409674</td>\n",
       "      <td>0.62991</td>\n",
       "      <td>6.69</td>\n",
       "      <td>NaN</td>\n",
       "      <td>NaN</td>\n",
       "      <td>NaN</td>\n",
       "    </tr>\n",
       "    <tr>\n",
       "      <th>1962</th>\n",
       "      <td>9.929296</td>\n",
       "      <td>0.65874</td>\n",
       "      <td>6.63</td>\n",
       "      <td>5.52</td>\n",
       "      <td>4.58</td>\n",
       "      <td>-0.90</td>\n",
       "    </tr>\n",
       "    <tr>\n",
       "      <th>1963</th>\n",
       "      <td>10.444524</td>\n",
       "      <td>0.66309</td>\n",
       "      <td>6.35</td>\n",
       "      <td>5.19</td>\n",
       "      <td>0.66</td>\n",
       "      <td>-4.22</td>\n",
       "    </tr>\n",
       "  </tbody>\n",
       "</table>\n",
       "</div>"
      ],
      "text/plain": [
       "      total_world_ gdp  total_samerica_gdp  south_share  world_gdp_changes  \\\n",
       "year                                                                         \n",
       "1961          9.409674             0.62991         6.69                NaN   \n",
       "1962          9.929296             0.65874         6.63               5.52   \n",
       "1963         10.444524             0.66309         6.35               5.19   \n",
       "\n",
       "      south_gdp_changes  south_share_changes  \n",
       "year                                          \n",
       "1961                NaN                  NaN  \n",
       "1962               4.58                -0.90  \n",
       "1963               0.66                -4.22  "
      ]
     },
     "execution_count": 34,
     "metadata": {},
     "output_type": "execute_result"
    }
   ],
   "source": [
    "# check changes\n",
    "df_world.head(3)"
   ]
  },
  {
   "cell_type": "markdown",
   "metadata": {},
   "source": [
    "## 1d Exploratory Data Analysis\n",
    "### Research Question 1 - South American GDP Changes Trends and Statistics"
   ]
  },
  {
   "cell_type": "code",
   "execution_count": 35,
   "metadata": {},
   "outputs": [
    {
     "data": {
      "image/png": "[encoded data removed]",
      "text/plain": [
       "<Figure size 432x288 with 1 Axes>"
      ]
     },
     "metadata": {
      "needs_background": "light"
     },
     "output_type": "display_data"
    }
   ],
   "source": [
    "df_world['south_gdp_changes'][1:].plot()\n",
    "plt.title('South American GDP Percentage Annual Change')\n",
    "plt.xlabel('Year')\n",
    "plt.ylabel('Percentage Annual Change');"
   ]
  },
  {
   "cell_type": "code",
   "execution_count": 36,
   "metadata": {},
   "outputs": [
    {
     "data": {
      "text/plain": [
       "3.309821428571428"
      ]
     },
     "execution_count": 36,
     "metadata": {},
     "output_type": "execute_result"
    }
   ],
   "source": [
    "df_world['south_gdp_changes'][1:].mean()"
   ]
  },
  {
   "cell_type": "code",
   "execution_count": 37,
   "metadata": {},
   "outputs": [
    {
     "data": {
      "text/plain": [
       "3.5098223166999776"
      ]
     },
     "execution_count": 37,
     "metadata": {},
     "output_type": "execute_result"
    }
   ],
   "source": [
    "df_world['south_gdp_changes'][1:].std()"
   ]
  },
  {
   "cell_type": "markdown",
   "metadata": {},
   "source": [
    "*Conclusions:*\n",
    "- generally south american GDP changes 3.30 % per annum\n",
    "- the south american growth rate dropped from 2.5% per annum to -10 % after 2010"
   ]
  },
  {
   "cell_type": "markdown",
   "metadata": {},
   "source": [
    "### Research Question 2 - Brazilian GDP Trends and Statistics"
   ]
  },
  {
   "cell_type": "code",
   "execution_count": 38,
   "metadata": {},
   "outputs": [
    {
     "data": {
      "image/png": "[encoded data removed]",
      "text/plain": [
       "<Figure size 432x288 with 1 Axes>"
      ]
     },
     "metadata": {
      "needs_background": "light"
     },
     "output_type": "display_data"
    }
   ],
   "source": [
    "plt.plot(df_south['bra_gdp'][1:])\n",
    "plt.title('Brazil GDP (in US$ Trillions) from 1961 to 2017')\n",
    "plt.xlabel('Years')\n",
    "plt.ylabel('GDP');"
   ]
  },
  {
   "cell_type": "code",
   "execution_count": 39,
   "metadata": {},
   "outputs": [],
   "source": [
    "# dropped in the beggining of the 1980s and 2010s"
   ]
  },
  {
   "cell_type": "code",
   "execution_count": 40,
   "metadata": {},
   "outputs": [],
   "source": [
    "# 1980s GDP annual change drop (from 1980 to 1983)\n",
    "gdp_change_1980 = df_south['bra_gdp'].iloc[14:24].pct_change()*100"
   ]
  },
  {
   "cell_type": "code",
   "execution_count": 41,
   "metadata": {},
   "outputs": [
    {
     "data": {
      "image/png": "[encoded data removed]",
      "text/plain": [
       "<Figure size 432x288 with 1 Axes>"
      ]
     },
     "metadata": {
      "needs_background": "light"
     },
     "output_type": "display_data"
    }
   ],
   "source": [
    "plt.plot(gdp_change_1980 )\n",
    "plt.title('Brazilian GDP annual change from 1976 to 1984')\n",
    "plt.xlabel('Years')\n",
    "plt.ylabel('GDP');"
   ]
  },
  {
   "cell_type": "code",
   "execution_count": 42,
   "metadata": {},
   "outputs": [],
   "source": [
    "# 2010s drop annual change (from 2010 to 2017)\n",
    "gdp_change_2010 = df_south['bra_gdp'].iloc[-9:].pct_change()*100"
   ]
  },
  {
   "cell_type": "code",
   "execution_count": 43,
   "metadata": {},
   "outputs": [
    {
     "data": {
      "image/png": "[encoded data removed]",
      "text/plain": [
       "<Figure size 432x288 with 1 Axes>"
      ]
     },
     "metadata": {
      "needs_background": "light"
     },
     "output_type": "display_data"
    }
   ],
   "source": [
    "plt.plot(gdp_change_2010)\n",
    "plt.title('Brazilian GDP annual change from 2010 to 2017')\n",
    "plt.xlabel('Years')\n",
    "plt.ylabel('GDP');"
   ]
  },
  {
   "cell_type": "markdown",
   "metadata": {},
   "source": [
    "*Conclusions:*\n",
    "- Brazilian GDP is an ascending trend since 1961\n",
    "- But we can identify two recessions periods, one from 1980 to 1983 and another recently from 2010 to 2016 "
   ]
  },
  {
   "cell_type": "markdown",
   "metadata": {},
   "source": [
    "### Research Question 3 - Brazilian GINI Trends and Statistics"
   ]
  },
  {
   "cell_type": "code",
   "execution_count": 44,
   "metadata": {},
   "outputs": [
    {
     "data": {
      "image/png": "[encoded data removed]",
      "text/plain": [
       "<Figure size 432x288 with 1 Axes>"
      ]
     },
     "metadata": {
      "needs_background": "light"
     },
     "output_type": "display_data"
    }
   ],
   "source": [
    "plt.plot(df_gini['bra_gin'])\n",
    "plt.title('Brazil Gini Index from 1961 to 2017')\n",
    "plt.xlabel('Years')\n",
    "plt.ylabel('GINI Index');"
   ]
  },
  {
   "cell_type": "markdown",
   "metadata": {},
   "source": [
    "*Conclusions:*\n",
    "- Brazilian Gini Index reached a peak just before the 1990s and started to drop in the first half of the 1990s decade\n",
    "- The trend shows the country is becoming less unequal since then."
   ]
  },
  {
   "cell_type": "markdown",
   "metadata": {},
   "source": [
    "<a id='eda'></a>\n",
    "## 2d Exploratory Data Analysis\n",
    "\n",
    "\n",
    "### GDP \n",
    "### Research Question 1 - What's the evolucion of South American GDP from 1961 to 2017?"
   ]
  },
  {
   "cell_type": "code",
   "execution_count": 45,
   "metadata": {},
   "outputs": [
    {
     "data": {
      "image/png": "[encoded data removed]",
      "text/plain": [
       "<Figure size 720x576 with 1 Axes>"
      ]
     },
     "metadata": {
      "needs_background": "light"
     },
     "output_type": "display_data"
    }
   ],
   "source": [
    "plt.figure(figsize= (10,8))\n",
    "plt.plot(np.arange(1961,2018) ,df_world['total_samerica_gdp']);\n",
    "plt.title('South America Total GDP from 1961 to 2017');\n",
    "plt.xticks(np.arange(1961, 2018, step=5));"
   ]
  },
  {
   "cell_type": "markdown",
   "metadata": {},
   "source": [
    "### GDP\n",
    "### Research Question 2  - Which are the top 05 biggest economy in Southe America in 2007 and 2017? Did it have any change in this top 05 in these 10 years?"
   ]
  },
  {
   "cell_type": "code",
   "execution_count": 46,
   "metadata": {},
   "outputs": [
    {
     "data": {
      "text/plain": [
       "bra_gdp    1960000000000\n",
       "arg_gdp     393000000000\n",
       "ven_gdp     392000000000\n",
       "col_gdp     262000000000\n",
       "chi_gdp     203000000000\n",
       "Name: 2007, dtype: int64"
      ]
     },
     "execution_count": 46,
     "metadata": {},
     "output_type": "execute_result"
    }
   ],
   "source": [
    "df_south.iloc[46].sort_values(ascending=False).head(5)"
   ]
  },
  {
   "cell_type": "code",
   "execution_count": 47,
   "metadata": {},
   "outputs": [
    {
     "data": {
      "image/png": "[encoded data removed]",
      "text/plain": [
       "<Figure size 432x288 with 1 Axes>"
      ]
     },
     "metadata": {
      "needs_background": "light"
     },
     "output_type": "display_data"
    }
   ],
   "source": [
    "gdp_2007 = df_south.iloc[46, np.r_[0:5]]\n",
    "gdp_2007 = gdp_2007.sort_values(ascending = False)\n",
    "gdp_2007.plot(kind='bar')\n",
    "plt.title('Top GDP in US$ Trillions - 2007')\n",
    "plt.xticks(np.arange(5), ['Bra', 'Arg', 'Ven', 'Col', 'Chi'])\n",
    "plt.xlabel('Countries')\n",
    "plt.ylabel('GDP in US$ Trillions');\n",
    "# fix the chart using plt.bar!"
   ]
  },
  {
   "cell_type": "code",
   "execution_count": 48,
   "metadata": {},
   "outputs": [
    {
     "data": {
      "text/plain": [
       "bra_gdp    2280000000000\n",
       "arg_gdp     460000000000\n",
       "col_gdp     373000000000\n",
       "ven_gdp     290518560640\n",
       "chi_gdp     272000000000\n",
       "Name: 2017, dtype: int64"
      ]
     },
     "execution_count": 48,
     "metadata": {},
     "output_type": "execute_result"
    }
   ],
   "source": [
    "df_south.iloc[56].sort_values(ascending=False).head(5)"
   ]
  },
  {
   "cell_type": "code",
   "execution_count": 49,
   "metadata": {},
   "outputs": [
    {
     "data": {
      "image/png": "[encoded data removed]",
      "text/plain": [
       "<Figure size 432x288 with 1 Axes>"
      ]
     },
     "metadata": {
      "needs_background": "light"
     },
     "output_type": "display_data"
    }
   ],
   "source": [
    "gdp_2017 = df_south.iloc[56, np.r_[0:5]]\n",
    "gdp_2017 = gdp_2017.sort_values(ascending = False)\n",
    "gdp_2017.plot(kind='bar')\n",
    "plt.title('Top GDP in US$ Trillions - 2017')\n",
    "plt.xticks(np.arange(5), ['Bra', 'Arg', 'Col', 'Ven', 'Chi'])\n",
    "plt.xlabel('Countries')\n",
    "plt.ylabel('GDP in US$ Trillions');"
   ]
  },
  {
   "cell_type": "markdown",
   "metadata": {},
   "source": [
    "** Conclusion: ** \n",
    "- Brazil kept as the biggest South American enonomy in 2007 and 2017\n",
    "- in 2007 Venezuela was the third biggest economy. In 2017 Colombia took Venelueza's third place\n",
    "- Chile kept as the fith biggest economy in the continent."
   ]
  },
  {
   "cell_type": "markdown",
   "metadata": {},
   "source": [
    "### GDP\n",
    "### Research Question 3  - Which south american country's GDP has grown since 1961?"
   ]
  },
  {
   "cell_type": "code",
   "execution_count": 50,
   "metadata": {},
   "outputs": [],
   "source": [
    "for i in df_south.columns:\n",
    "    df_south[i + '_change'] = df_south[i].pct_change()"
   ]
  },
  {
   "cell_type": "code",
   "execution_count": 51,
   "metadata": {},
   "outputs": [
    {
     "data": {
      "text/plain": [
       "par_gdp_change    4.723029\n",
       "col_gdp_change    4.165726\n",
       "chi_gdp_change    4.067758\n",
       "bra_gdp_change    3.942079\n",
       "ecu_gdp_change    3.924067\n",
       "per_gdp_change    3.612892\n",
       "bol_gdp_change    3.206028\n",
       "arg_gdp_change    2.557516\n",
       "uru_gdp_change    2.348317\n",
       "ven_gdp_change    2.021726\n",
       "dtype: float64"
      ]
     },
     "execution_count": 51,
     "metadata": {},
     "output_type": "execute_result"
    }
   ],
   "source": [
    "df_south.iloc[:, np.r_[10:20]].mean().sort_values(ascending = False) *100"
   ]
  },
  {
   "cell_type": "code",
   "execution_count": 52,
   "metadata": {},
   "outputs": [
    {
     "data": {
      "image/png": "[encoded data removed]",
      "text/plain": [
       "<Figure size 432x288 with 1 Axes>"
      ]
     },
     "metadata": {
      "needs_background": "light"
     },
     "output_type": "display_data"
    }
   ],
   "source": [
    "gdp_pct = df_south.iloc[:, np.r_[10:20]].mean().sort_values(ascending = False) *100\n",
    "gdp_pct.plot(kind='bar')\n",
    "plt.title('GDP Percent Change Mean from 1961 to 2017 ')\n",
    "plt.xticks(np.arange(5), ['Par', 'Col', 'Chile', 'Bra', 'Ecu', 'Per', 'Bol', 'Arg', 'Uru', 'Ven'])\n",
    "plt.xlabel('Countries')\n",
    "plt.ylabel('GDP % Change');"
   ]
  },
  {
   "cell_type": "markdown",
   "metadata": {},
   "source": [
    "### GDP\n",
    "### Research Question 4  - in which country the GDP change has oscilated more since 1961? "
   ]
  },
  {
   "cell_type": "code",
   "execution_count": 53,
   "metadata": {},
   "outputs": [],
   "source": [
    "gdp_std = df_south.iloc[:, np.r_[10:20]].std().sort_values(ascending = False) *100"
   ]
  },
  {
   "cell_type": "code",
   "execution_count": 54,
   "metadata": {},
   "outputs": [
    {
     "data": {
      "image/png": "[encoded data removed]",
      "text/plain": [
       "<Figure size 432x288 with 1 Axes>"
      ]
     },
     "metadata": {
      "needs_background": "light"
     },
     "output_type": "display_data"
    }
   ],
   "source": [
    "label = ['Ven', 'Arg', 'Per', 'Chi', 'Uru', 'Bra', 'Par', 'Bol', 'Ecu', 'Col']\n",
    "\n",
    "plt.bar(np.arange(10), gdp_std)\n",
    "plt.xticks(np.arange(10),label)\n",
    "plt.xlabel('Countries')\n",
    "plt.ylabel('GDP - Std Dev')\n",
    "plt.title('GDP Standard Deviation - from 1961 to 2017');"
   ]
  },
  {
   "cell_type": "markdown",
   "metadata": {},
   "source": [
    "* Venezuela has the greatest GDP Standard Deviation from 1961 to 2017"
   ]
  },
  {
   "cell_type": "markdown",
   "metadata": {},
   "source": [
    "### Inflation Rate\n",
    "### Research Question 5  -  What was the country whith highest average inflation rate for each south american country since 1961?"
   ]
  },
  {
   "cell_type": "code",
   "execution_count": 55,
   "metadata": {},
   "outputs": [
    {
     "name": "stderr",
     "output_type": "stream",
     "text": [
      "No handles with labels found to put in legend.\n"
     ]
    },
    {
     "data": {
      "image/png": "[encoded data removed]",
      "text/plain": [
       "<Figure size 864x576 with 1 Axes>"
      ]
     },
     "metadata": {
      "needs_background": "light"
     },
     "output_type": "display_data"
    }
   ],
   "source": [
    "plt.figure(figsize=(12,8))\n",
    "plt.plot(np.arange(1961,2018), df_inflt['arg_inf'], color = 'c')\n",
    "plt.plot(np.arange(1961,2018), df_inflt['bol_inf'], color = 'g')\n",
    "plt.plot(np.arange(1961,2018), df_inflt['bra_inf'], color = 'gold')\n",
    "plt.plot(np.arange(1961,2018), df_inflt['chi_inf'], color = 'r')\n",
    "plt.plot(np.arange(1961,2018), df_inflt['col_inf'], color = 'darkgoldenrod')\n",
    "plt.plot(np.arange(1961,2018), df_inflt['ecu_inf'], color = 'khaki')\n",
    "plt.plot(np.arange(1961,2018), df_inflt['par_inf'], color = 'coral')\n",
    "plt.plot(np.arange(1961,2018), df_inflt['per_inf'], color = 'purple')\n",
    "plt.plot(np.arange(1961,2018), df_inflt['uru_inf'], color = 'lightcyan')\n",
    "plt.plot(np.arange(1961,2018), df_inflt['ven_inf'], color = 'black')\n",
    "plt.xticks(np.arange(1961, 2018, step=5));\n",
    "plt.title('South America Inflation Annual Percent from 1961 to 2017')\n",
    "plt.xlabel('Years from 1961 to 2017')\n",
    "plt.ylabel('Anual Inflation (%)')\n",
    "plt.legend();"
   ]
  },
  {
   "cell_type": "code",
   "execution_count": 56,
   "metadata": {},
   "outputs": [
    {
     "data": {
      "text/plain": [
       "bol_inf    261.598772\n",
       "bra_inf    219.782105\n",
       "per_inf    194.781298\n",
       "arg_inf    171.110414\n",
       "chi_inf     47.927309\n",
       "ven_inf     44.278596\n",
       "uru_inf     39.518912\n",
       "col_inf     15.706140\n",
       "par_inf     11.348742\n",
       "ecu_inf      5.838649\n",
       "dtype: float64"
      ]
     },
     "execution_count": 56,
     "metadata": {},
     "output_type": "execute_result"
    }
   ],
   "source": [
    "infl_mean = df_inflt.iloc[:, np.r_[0:10]].mean().sort_values(ascending = False)\n",
    "infl_mean"
   ]
  },
  {
   "cell_type": "code",
   "execution_count": 57,
   "metadata": {},
   "outputs": [
    {
     "data": {
      "image/png": "[encoded data removed]",
      "text/plain": [
       "<Figure size 432x288 with 1 Axes>"
      ]
     },
     "metadata": {
      "needs_background": "light"
     },
     "output_type": "display_data"
    }
   ],
   "source": [
    "label = ['Bol', 'Bra', 'Per', 'Arg', 'Chi', 'Ven', 'Uru', 'Col', 'Par', 'Ecu']\n",
    "\n",
    "plt.bar(np.arange(10), infl_mean)\n",
    "plt.xticks(np.arange(10),label)\n",
    "plt.xlabel('Countries')\n",
    "plt.ylabel('(%)')\n",
    "plt.title('Average Annual Cumulated Inflation Rate (%) from 1961 to 2017');"
   ]
  },
  {
   "cell_type": "markdown",
   "metadata": {},
   "source": [
    "* Bolivia achieved more than 12,000 % of annual inflation rate in the first half of the 1980s"
   ]
  },
  {
   "cell_type": "markdown",
   "metadata": {},
   "source": [
    "* Peru achieved more than 6,000 % of annual inflation rate in the second half of the 1980s"
   ]
  },
  {
   "cell_type": "markdown",
   "metadata": {},
   "source": [
    "* Argentina and Brazil achieved more than 2,000 % of annual inflation rate in the end of the 1980s"
   ]
  },
  {
   "cell_type": "markdown",
   "metadata": {},
   "source": [
    "* Brazil achieved another peak of more than 2,000 % of annual inflation rate in 1994"
   ]
  },
  {
   "cell_type": "markdown",
   "metadata": {},
   "source": [
    "* More recently Venezuela's inflation annual percent rate has been increasing to almost 1,000 % annual inflation rate"
   ]
  },
  {
   "cell_type": "markdown",
   "metadata": {},
   "source": [
    "### Inflation Rate\n",
    "### Research Question 6  - What was the country whith highest oscilating inflation rate for each south american country since 1961?"
   ]
  },
  {
   "cell_type": "code",
   "execution_count": 58,
   "metadata": {},
   "outputs": [
    {
     "data": {
      "text/plain": [
       "bol_inf    1634.572959\n",
       "per_inf     888.569713\n",
       "bra_inf     552.340554\n",
       "arg_inf     491.146314\n",
       "ven_inf     119.032867\n",
       "chi_inf     113.971272\n",
       "uru_inf      36.721643\n",
       "ecu_inf      16.844081\n",
       "col_inf       9.868671\n",
       "par_inf       9.373088\n",
       "dtype: float64"
      ]
     },
     "execution_count": 58,
     "metadata": {},
     "output_type": "execute_result"
    }
   ],
   "source": [
    "infl_std = df_inflt.iloc[:, np.r_[0:10]].std().sort_values(ascending = False)\n",
    "infl_std"
   ]
  },
  {
   "cell_type": "code",
   "execution_count": 59,
   "metadata": {},
   "outputs": [
    {
     "data": {
      "image/png": "[encoded data removed]",
      "text/plain": [
       "<Figure size 432x288 with 1 Axes>"
      ]
     },
     "metadata": {
      "needs_background": "light"
     },
     "output_type": "display_data"
    }
   ],
   "source": [
    "label_01 = ['Bol', 'Per', 'Bra', 'Arg', 'Ven', 'Chi', 'Uru', 'Ecu', 'Col', 'Par']\n",
    "\n",
    "plt.bar(np.arange(10), infl_std)\n",
    "plt.xticks(np.arange(10),label_01)\n",
    "plt.xlabel('Countries')\n",
    "plt.ylabel('(%)')\n",
    "plt.title('Standard Deviation - Cumulated Inflation Rate (%) from 1961 to 2017');"
   ]
  },
  {
   "cell_type": "markdown",
   "metadata": {},
   "source": [
    "### GINI Index\n",
    "### Research Question 7  -  Which are the three countries that has most improved in reducing inequality when comparing 2017 and 1961?"
   ]
  },
  {
   "cell_type": "code",
   "execution_count": 60,
   "metadata": {},
   "outputs": [
    {
     "name": "stdout",
     "output_type": "stream",
     "text": [
      "chi_gin    0.695335\n",
      "ven_gin    0.739748\n",
      "per_gin    0.760000\n",
      "dtype: float64\n"
     ]
    }
   ],
   "source": [
    "for i in df_gini.columns:\n",
    "    ratio = df_gini.iloc[56] / df_gini.iloc[0]\n",
    "print(ratio.sort_values().head(3))"
   ]
  },
  {
   "cell_type": "code",
   "execution_count": 61,
   "metadata": {},
   "outputs": [
    {
     "data": {
      "image/png": "[encoded data removed]",
      "text/plain": [
       "<Figure size 432x288 with 1 Axes>"
      ]
     },
     "metadata": {
      "needs_background": "light"
     },
     "output_type": "display_data"
    }
   ],
   "source": [
    "label_02 = ['Chi', 'Ven', 'Per']\n",
    "\n",
    "plt.bar(np.arange(3), ratio.sort_values().head(3))\n",
    "plt.xticks(np.arange(3),label_02)\n",
    "plt.xlabel('Countries')\n",
    "plt.ylabel('GINI Index')\n",
    "plt.title('GINI Index Improvement Comparison 1961 and 2017');\n",
    "# less is better!"
   ]
  },
  {
   "cell_type": "markdown",
   "metadata": {},
   "source": [
    "** Top 3 wealthy unequality improvement (less is better) **\n",
    " \n",
    "1)Chile\n",
    "\n",
    "2)Venezuela\n",
    " \n",
    "3)Peru"
   ]
  },
  {
   "cell_type": "markdown",
   "metadata": {},
   "source": [
    "### GINI Index\n",
    "### Research Question 8  - Which are the three countries that has most worsened in reducing inequality when comparing 2017 and 1961?"
   ]
  },
  {
   "cell_type": "code",
   "execution_count": 62,
   "metadata": {},
   "outputs": [
    {
     "name": "stdout",
     "output_type": "stream",
     "text": [
      "par_gin    1.171569\n",
      "bra_gin    1.145089\n",
      "ecu_gin    1.078759\n",
      "dtype: float64\n"
     ]
    }
   ],
   "source": [
    "for i in df_gini.columns:\n",
    "    ratio = df_gini.iloc[56] / df_gini.iloc[0]\n",
    "print(ratio.sort_values(ascending = False).head(3))"
   ]
  },
  {
   "cell_type": "code",
   "execution_count": 63,
   "metadata": {},
   "outputs": [
    {
     "data": {
      "image/png": "[encoded data removed]",
      "text/plain": [
       "<Figure size 432x288 with 1 Axes>"
      ]
     },
     "metadata": {
      "needs_background": "light"
     },
     "output_type": "display_data"
    }
   ],
   "source": [
    "label_03 = ['Par', 'Bra', 'Ecu']\n",
    "\n",
    "plt.bar(np.arange(3), ratio.sort_values(ascending = False).head(3))\n",
    "plt.xticks(np.arange(3),label_03)\n",
    "plt.xlabel('Countries')\n",
    "plt.ylabel('GINI Index')\n",
    "plt.title('GINI Index Worsened Comparison 1961 and 2017');\n",
    "# more is worse!"
   ]
  },
  {
   "cell_type": "markdown",
   "metadata": {},
   "source": [
    "** Top 3 wealthy unequality worsen (more is worse) **\n",
    " \n",
    "1)Chile\n",
    "\n",
    "2)Venezuela\n",
    " \n",
    "3)Peru"
   ]
  },
  {
   "cell_type": "markdown",
   "metadata": {},
   "source": [
    "<a id='conclusions'></a>\n",
    "## Conclusions\n",
    "\n",
    "> The obtained results shows important economical indicators trought the years, but we can't say the causes of South America economical growth, wealthy inequality nor inflation rate at all;\n",
    "\n",
    "> It's pointless try to correlate any of our selected indicators, since each one is calculated in completely different ways as we can see at data brief above in this work;\n",
    "\n",
    "> Brazil has the biggest South American economy in the given period, but had tough Inflation periods until 1994. \n",
    "\n",
    "> Paraguay is the most unequal country. In the other hand the country had a small Inflation oscilation in the given period.\n",
    "\n",
    "> Venezuela has the greatest GDP oscilacion in the given period.\n",
    "\n"
   ]
  },
  {
   "cell_type": "code",
   "execution_count": 75,
   "metadata": {},
   "outputs": [],
   "source": [
    "df = pd.concat([df_south, df_inflt, df_gini], axis = 1 )"
   ]
  },
  {
   "cell_type": "code",
   "execution_count": 76,
   "metadata": {},
   "outputs": [
    {
     "data": {
      "text/html": [
       "<div>\n",
       "<style scoped>\n",
       "    .dataframe tbody tr th:only-of-type {\n",
       "        vertical-align: middle;\n",
       "    }\n",
       "\n",
       "    .dataframe tbody tr th {\n",
       "        vertical-align: top;\n",
       "    }\n",
       "\n",
       "    .dataframe thead th {\n",
       "        text-align: right;\n",
       "    }\n",
       "</style>\n",
       "<table border=\"1\" class=\"dataframe\">\n",
       "  <thead>\n",
       "    <tr style=\"text-align: right;\">\n",
       "      <th></th>\n",
       "      <th>arg_gdp</th>\n",
       "      <th>bol_gdp</th>\n",
       "      <th>bra_gdp</th>\n",
       "      <th>chi_gdp</th>\n",
       "      <th>col_gdp</th>\n",
       "      <th>ecu_gdp</th>\n",
       "      <th>par_gdp</th>\n",
       "      <th>per_gdp</th>\n",
       "      <th>uru_gdp</th>\n",
       "      <th>ven_gdp</th>\n",
       "      <th>...</th>\n",
       "      <th>arg_gin</th>\n",
       "      <th>bol_gin</th>\n",
       "      <th>bra_gin</th>\n",
       "      <th>chi_gin</th>\n",
       "      <th>col_gin</th>\n",
       "      <th>ecu_gin</th>\n",
       "      <th>par_gin</th>\n",
       "      <th>per_gin</th>\n",
       "      <th>uru_gin</th>\n",
       "      <th>ven_gin</th>\n",
       "    </tr>\n",
       "    <tr>\n",
       "      <th>year</th>\n",
       "      <th></th>\n",
       "      <th></th>\n",
       "      <th></th>\n",
       "      <th></th>\n",
       "      <th></th>\n",
       "      <th></th>\n",
       "      <th></th>\n",
       "      <th></th>\n",
       "      <th></th>\n",
       "      <th></th>\n",
       "      <th></th>\n",
       "      <th></th>\n",
       "      <th></th>\n",
       "      <th></th>\n",
       "      <th></th>\n",
       "      <th></th>\n",
       "      <th></th>\n",
       "      <th></th>\n",
       "      <th></th>\n",
       "      <th></th>\n",
       "      <th></th>\n",
       "    </tr>\n",
       "  </thead>\n",
       "  <tbody>\n",
       "    <tr>\n",
       "      <th>1961</th>\n",
       "      <td>122000000000</td>\n",
       "      <td>4920000000</td>\n",
       "      <td>273000000000</td>\n",
       "      <td>30900000000</td>\n",
       "      <td>38400000000</td>\n",
       "      <td>10400000000</td>\n",
       "      <td>2090000000</td>\n",
       "      <td>29000000000</td>\n",
       "      <td>14200000000</td>\n",
       "      <td>105000000000</td>\n",
       "      <td>...</td>\n",
       "      <td>41.4</td>\n",
       "      <td>46.2</td>\n",
       "      <td>44.8</td>\n",
       "      <td>68.6</td>\n",
       "      <td>62.5</td>\n",
       "      <td>41.9</td>\n",
       "      <td>40.8</td>\n",
       "      <td>57.5</td>\n",
       "      <td>46.4</td>\n",
       "      <td>63.4</td>\n",
       "    </tr>\n",
       "    <tr>\n",
       "      <th>1962</th>\n",
       "      <td>121000000000</td>\n",
       "      <td>5190000000</td>\n",
       "      <td>287000000000</td>\n",
       "      <td>32200000000</td>\n",
       "      <td>40500000000</td>\n",
       "      <td>10800000000</td>\n",
       "      <td>2150000000</td>\n",
       "      <td>31900000000</td>\n",
       "      <td>14000000000</td>\n",
       "      <td>114000000000</td>\n",
       "      <td>...</td>\n",
       "      <td>41.5</td>\n",
       "      <td>47.1</td>\n",
       "      <td>45.2</td>\n",
       "      <td>68.2</td>\n",
       "      <td>62.3</td>\n",
       "      <td>41.9</td>\n",
       "      <td>40.8</td>\n",
       "      <td>57.4</td>\n",
       "      <td>45.9</td>\n",
       "      <td>63.7</td>\n",
       "    </tr>\n",
       "    <tr>\n",
       "      <th>1963</th>\n",
       "      <td>114000000000</td>\n",
       "      <td>5530000000</td>\n",
       "      <td>289000000000</td>\n",
       "      <td>34000000000</td>\n",
       "      <td>41700000000</td>\n",
       "      <td>11300000000</td>\n",
       "      <td>2260000000</td>\n",
       "      <td>33300000000</td>\n",
       "      <td>14000000000</td>\n",
       "      <td>118000000000</td>\n",
       "      <td>...</td>\n",
       "      <td>40.7</td>\n",
       "      <td>48.0</td>\n",
       "      <td>45.7</td>\n",
       "      <td>66.8</td>\n",
       "      <td>61.6</td>\n",
       "      <td>41.9</td>\n",
       "      <td>40.8</td>\n",
       "      <td>57.0</td>\n",
       "      <td>45.3</td>\n",
       "      <td>64.2</td>\n",
       "    </tr>\n",
       "    <tr>\n",
       "      <th>1964</th>\n",
       "      <td>126000000000</td>\n",
       "      <td>5790000000</td>\n",
       "      <td>300000000000</td>\n",
       "      <td>34900000000</td>\n",
       "      <td>44400000000</td>\n",
       "      <td>12100000000</td>\n",
       "      <td>2350000000</td>\n",
       "      <td>35500000000</td>\n",
       "      <td>14400000000</td>\n",
       "      <td>131000000000</td>\n",
       "      <td>...</td>\n",
       "      <td>40.0</td>\n",
       "      <td>48.7</td>\n",
       "      <td>46.1</td>\n",
       "      <td>64.4</td>\n",
       "      <td>60.3</td>\n",
       "      <td>41.9</td>\n",
       "      <td>40.8</td>\n",
       "      <td>56.2</td>\n",
       "      <td>44.8</td>\n",
       "      <td>64.8</td>\n",
       "    </tr>\n",
       "    <tr>\n",
       "      <th>1965</th>\n",
       "      <td>139000000000</td>\n",
       "      <td>6120000000</td>\n",
       "      <td>309000000000</td>\n",
       "      <td>35200000000</td>\n",
       "      <td>45800000000</td>\n",
       "      <td>12700000000</td>\n",
       "      <td>2500000000</td>\n",
       "      <td>37500000000</td>\n",
       "      <td>14500000000</td>\n",
       "      <td>137000000000</td>\n",
       "      <td>...</td>\n",
       "      <td>39.4</td>\n",
       "      <td>49.5</td>\n",
       "      <td>46.5</td>\n",
       "      <td>62.0</td>\n",
       "      <td>59.0</td>\n",
       "      <td>41.9</td>\n",
       "      <td>40.8</td>\n",
       "      <td>55.3</td>\n",
       "      <td>44.2</td>\n",
       "      <td>65.3</td>\n",
       "    </tr>\n",
       "  </tbody>\n",
       "</table>\n",
       "<p>5 rows × 40 columns</p>\n",
       "</div>"
      ],
      "text/plain": [
       "           arg_gdp     bol_gdp       bra_gdp      chi_gdp      col_gdp  \\\n",
       "year                                                                     \n",
       "1961  122000000000  4920000000  273000000000  30900000000  38400000000   \n",
       "1962  121000000000  5190000000  287000000000  32200000000  40500000000   \n",
       "1963  114000000000  5530000000  289000000000  34000000000  41700000000   \n",
       "1964  126000000000  5790000000  300000000000  34900000000  44400000000   \n",
       "1965  139000000000  6120000000  309000000000  35200000000  45800000000   \n",
       "\n",
       "          ecu_gdp     par_gdp      per_gdp      uru_gdp       ven_gdp  ...  \\\n",
       "year                                                                   ...   \n",
       "1961  10400000000  2090000000  29000000000  14200000000  105000000000  ...   \n",
       "1962  10800000000  2150000000  31900000000  14000000000  114000000000  ...   \n",
       "1963  11300000000  2260000000  33300000000  14000000000  118000000000  ...   \n",
       "1964  12100000000  2350000000  35500000000  14400000000  131000000000  ...   \n",
       "1965  12700000000  2500000000  37500000000  14500000000  137000000000  ...   \n",
       "\n",
       "      arg_gin  bol_gin  bra_gin  chi_gin  col_gin  ecu_gin  par_gin  per_gin  \\\n",
       "year                                                                           \n",
       "1961     41.4     46.2     44.8     68.6     62.5     41.9     40.8     57.5   \n",
       "1962     41.5     47.1     45.2     68.2     62.3     41.9     40.8     57.4   \n",
       "1963     40.7     48.0     45.7     66.8     61.6     41.9     40.8     57.0   \n",
       "1964     40.0     48.7     46.1     64.4     60.3     41.9     40.8     56.2   \n",
       "1965     39.4     49.5     46.5     62.0     59.0     41.9     40.8     55.3   \n",
       "\n",
       "      uru_gin  ven_gin  \n",
       "year                    \n",
       "1961     46.4     63.4  \n",
       "1962     45.9     63.7  \n",
       "1963     45.3     64.2  \n",
       "1964     44.8     64.8  \n",
       "1965     44.2     65.3  \n",
       "\n",
       "[5 rows x 40 columns]"
      ]
     },
     "execution_count": 76,
     "metadata": {},
     "output_type": "execute_result"
    }
   ],
   "source": [
    "df.head()"
   ]
  },
  {
   "cell_type": "code",
   "execution_count": 73,
   "metadata": {},
   "outputs": [
    {
     "data": {
      "text/plain": [
       "True"
      ]
     },
     "execution_count": 73,
     "metadata": {},
     "output_type": "execute_result"
    }
   ],
   "source": [
    "df_south.shape[0] == df_inflt.shape[0] == df_gini.shape[0]"
   ]
  },
  {
   "cell_type": "code",
   "execution_count": 106,
   "metadata": {},
   "outputs": [
    {
     "data": {
      "text/plain": [
       "['arg_gdp',\n",
       " 'bol_gdp',\n",
       " 'bra_gdp',\n",
       " 'chi_gdp',\n",
       " 'col_gdp',\n",
       " 'ecu_gdp',\n",
       " 'par_gdp',\n",
       " 'per_gdp',\n",
       " 'uru_gdp',\n",
       " 'ven_gdp',\n",
       " 'arg_gdp_change',\n",
       " 'bol_gdp_change',\n",
       " 'bra_gdp_change',\n",
       " 'chi_gdp_change',\n",
       " 'col_gdp_change',\n",
       " 'ecu_gdp_change',\n",
       " 'par_gdp_change',\n",
       " 'per_gdp_change',\n",
       " 'uru_gdp_change',\n",
       " 'ven_gdp_change',\n",
       " 'arg_inf',\n",
       " 'bol_inf',\n",
       " 'bra_inf',\n",
       " 'chi_inf',\n",
       " 'col_inf',\n",
       " 'ecu_inf',\n",
       " 'par_inf',\n",
       " 'per_inf',\n",
       " 'uru_inf',\n",
       " 'ven_inf',\n",
       " 'arg_gin',\n",
       " 'bol_gin',\n",
       " 'bra_gin',\n",
       " 'chi_gin',\n",
       " 'col_gin',\n",
       " 'ecu_gin',\n",
       " 'par_gin',\n",
       " 'per_gin',\n",
       " 'uru_gin',\n",
       " 'ven_gin']"
      ]
     },
     "execution_count": 106,
     "metadata": {},
     "output_type": "execute_result"
    }
   ],
   "source": [
    "lst = list(df.columns)\n",
    "lst"
   ]
  },
  {
   "cell_type": "code",
   "execution_count": 108,
   "metadata": {},
   "outputs": [],
   "source": [
    "def colorg(lst):\n",
    "    l = []\n",
    "    country = []\n",
    "    for i in lst:\n",
    "        f = i.split('_')[0]\n",
    "        if f not in country:\n",
    "            gdp = f + '_gdp'\n",
    "            gdpc = f + '_gdp_change'\n",
    "            inf = f + '_inf'\n",
    "            gin = f + '_gin'\n",
    "            country.append(f)\n",
    "            l.append(gdp)\n",
    "            l.append(gdpc)\n",
    "            l.append(inf)\n",
    "            l.append(gin)  \n",
    "            \n",
    "       \n",
    "    return l\n",
    "        \n",
    "        "
   ]
  },
  {
   "cell_type": "code",
   "execution_count": 85,
   "metadata": {},
   "outputs": [
    {
     "data": {
      "text/plain": [
       "'ven'"
      ]
     },
     "execution_count": 85,
     "metadata": {},
     "output_type": "execute_result"
    }
   ],
   "source": [
    "lst[39].split('_')[0]\n"
   ]
  },
  {
   "cell_type": "code",
   "execution_count": 110,
   "metadata": {},
   "outputs": [
    {
     "data": {
      "text/plain": [
       "40"
      ]
     },
     "execution_count": 110,
     "metadata": {},
     "output_type": "execute_result"
    }
   ],
   "source": [
    "len(colorg(lst))"
   ]
  },
  {
   "cell_type": "code",
   "execution_count": 109,
   "metadata": {},
   "outputs": [
    {
     "data": {
      "text/plain": [
       "['arg_gdp',\n",
       " 'arg_gdp_change',\n",
       " 'arg_inf',\n",
       " 'arg_gin',\n",
       " 'bol_gdp',\n",
       " 'bol_gdp_change',\n",
       " 'bol_inf',\n",
       " 'bol_gin',\n",
       " 'bra_gdp',\n",
       " 'bra_gdp_change',\n",
       " 'bra_inf',\n",
       " 'bra_gin',\n",
       " 'chi_gdp',\n",
       " 'chi_gdp_change',\n",
       " 'chi_inf',\n",
       " 'chi_gin',\n",
       " 'col_gdp',\n",
       " 'col_gdp_change',\n",
       " 'col_inf',\n",
       " 'col_gin',\n",
       " 'ecu_gdp',\n",
       " 'ecu_gdp_change',\n",
       " 'ecu_inf',\n",
       " 'ecu_gin',\n",
       " 'par_gdp',\n",
       " 'par_gdp_change',\n",
       " 'par_inf',\n",
       " 'par_gin',\n",
       " 'per_gdp',\n",
       " 'per_gdp_change',\n",
       " 'per_inf',\n",
       " 'per_gin',\n",
       " 'uru_gdp',\n",
       " 'uru_gdp_change',\n",
       " 'uru_inf',\n",
       " 'uru_gin',\n",
       " 'ven_gdp',\n",
       " 'ven_gdp_change',\n",
       " 'ven_inf',\n",
       " 'ven_gin']"
      ]
     },
     "execution_count": 109,
     "metadata": {},
     "output_type": "execute_result"
    }
   ],
   "source": [
    "colorg(lst)"
   ]
  },
  {
   "cell_type": "code",
   "execution_count": 111,
   "metadata": {},
   "outputs": [],
   "source": [
    "df_new = df[colorg(lst)] "
   ]
  },
  {
   "cell_type": "code",
   "execution_count": 112,
   "metadata": {},
   "outputs": [
    {
     "data": {
      "text/html": [
       "<div>\n",
       "<style scoped>\n",
       "    .dataframe tbody tr th:only-of-type {\n",
       "        vertical-align: middle;\n",
       "    }\n",
       "\n",
       "    .dataframe tbody tr th {\n",
       "        vertical-align: top;\n",
       "    }\n",
       "\n",
       "    .dataframe thead th {\n",
       "        text-align: right;\n",
       "    }\n",
       "</style>\n",
       "<table border=\"1\" class=\"dataframe\">\n",
       "  <thead>\n",
       "    <tr style=\"text-align: right;\">\n",
       "      <th></th>\n",
       "      <th>arg_gdp</th>\n",
       "      <th>arg_gdp_change</th>\n",
       "      <th>arg_inf</th>\n",
       "      <th>arg_gin</th>\n",
       "      <th>bol_gdp</th>\n",
       "      <th>bol_gdp_change</th>\n",
       "      <th>bol_inf</th>\n",
       "      <th>bol_gin</th>\n",
       "      <th>bra_gdp</th>\n",
       "      <th>bra_gdp_change</th>\n",
       "      <th>...</th>\n",
       "      <th>per_inf</th>\n",
       "      <th>per_gin</th>\n",
       "      <th>uru_gdp</th>\n",
       "      <th>uru_gdp_change</th>\n",
       "      <th>uru_inf</th>\n",
       "      <th>uru_gin</th>\n",
       "      <th>ven_gdp</th>\n",
       "      <th>ven_gdp_change</th>\n",
       "      <th>ven_inf</th>\n",
       "      <th>ven_gin</th>\n",
       "    </tr>\n",
       "    <tr>\n",
       "      <th>year</th>\n",
       "      <th></th>\n",
       "      <th></th>\n",
       "      <th></th>\n",
       "      <th></th>\n",
       "      <th></th>\n",
       "      <th></th>\n",
       "      <th></th>\n",
       "      <th></th>\n",
       "      <th></th>\n",
       "      <th></th>\n",
       "      <th></th>\n",
       "      <th></th>\n",
       "      <th></th>\n",
       "      <th></th>\n",
       "      <th></th>\n",
       "      <th></th>\n",
       "      <th></th>\n",
       "      <th></th>\n",
       "      <th></th>\n",
       "      <th></th>\n",
       "      <th></th>\n",
       "    </tr>\n",
       "  </thead>\n",
       "  <tbody>\n",
       "    <tr>\n",
       "      <th>1961</th>\n",
       "      <td>122000000000</td>\n",
       "      <td>NaN</td>\n",
       "      <td>20.3</td>\n",
       "      <td>41.4</td>\n",
       "      <td>4920000000</td>\n",
       "      <td>NaN</td>\n",
       "      <td>6.56</td>\n",
       "      <td>46.2</td>\n",
       "      <td>273000000000</td>\n",
       "      <td>NaN</td>\n",
       "      <td>...</td>\n",
       "      <td>3.10</td>\n",
       "      <td>57.5</td>\n",
       "      <td>14200000000</td>\n",
       "      <td>NaN</td>\n",
       "      <td>18.4</td>\n",
       "      <td>46.4</td>\n",
       "      <td>105000000000</td>\n",
       "      <td>NaN</td>\n",
       "      <td>0.469</td>\n",
       "      <td>63.4</td>\n",
       "    </tr>\n",
       "    <tr>\n",
       "      <th>1962</th>\n",
       "      <td>121000000000</td>\n",
       "      <td>-0.008197</td>\n",
       "      <td>28.9</td>\n",
       "      <td>41.5</td>\n",
       "      <td>5190000000</td>\n",
       "      <td>0.054878</td>\n",
       "      <td>3.57</td>\n",
       "      <td>47.1</td>\n",
       "      <td>287000000000</td>\n",
       "      <td>0.051282</td>\n",
       "      <td>...</td>\n",
       "      <td>3.01</td>\n",
       "      <td>57.4</td>\n",
       "      <td>14000000000</td>\n",
       "      <td>-0.014085</td>\n",
       "      <td>12.0</td>\n",
       "      <td>45.9</td>\n",
       "      <td>114000000000</td>\n",
       "      <td>0.085714</td>\n",
       "      <td>1.940</td>\n",
       "      <td>63.7</td>\n",
       "    </tr>\n",
       "    <tr>\n",
       "      <th>1963</th>\n",
       "      <td>114000000000</td>\n",
       "      <td>-0.057851</td>\n",
       "      <td>25.6</td>\n",
       "      <td>40.7</td>\n",
       "      <td>5530000000</td>\n",
       "      <td>0.065511</td>\n",
       "      <td>1.18</td>\n",
       "      <td>48.0</td>\n",
       "      <td>289000000000</td>\n",
       "      <td>0.006969</td>\n",
       "      <td>...</td>\n",
       "      <td>5.01</td>\n",
       "      <td>57.0</td>\n",
       "      <td>14000000000</td>\n",
       "      <td>0.000000</td>\n",
       "      <td>19.9</td>\n",
       "      <td>45.3</td>\n",
       "      <td>118000000000</td>\n",
       "      <td>0.035088</td>\n",
       "      <td>3.950</td>\n",
       "      <td>64.2</td>\n",
       "    </tr>\n",
       "    <tr>\n",
       "      <th>1964</th>\n",
       "      <td>126000000000</td>\n",
       "      <td>0.105263</td>\n",
       "      <td>28.8</td>\n",
       "      <td>40.0</td>\n",
       "      <td>5790000000</td>\n",
       "      <td>0.047016</td>\n",
       "      <td>7.52</td>\n",
       "      <td>48.7</td>\n",
       "      <td>300000000000</td>\n",
       "      <td>0.038062</td>\n",
       "      <td>...</td>\n",
       "      <td>13.60</td>\n",
       "      <td>56.2</td>\n",
       "      <td>14400000000</td>\n",
       "      <td>0.028571</td>\n",
       "      <td>40.4</td>\n",
       "      <td>44.8</td>\n",
       "      <td>131000000000</td>\n",
       "      <td>0.110169</td>\n",
       "      <td>0.993</td>\n",
       "      <td>64.8</td>\n",
       "    </tr>\n",
       "    <tr>\n",
       "      <th>1965</th>\n",
       "      <td>139000000000</td>\n",
       "      <td>0.103175</td>\n",
       "      <td>21.2</td>\n",
       "      <td>39.4</td>\n",
       "      <td>6120000000</td>\n",
       "      <td>0.056995</td>\n",
       "      <td>5.02</td>\n",
       "      <td>49.5</td>\n",
       "      <td>309000000000</td>\n",
       "      <td>0.030000</td>\n",
       "      <td>...</td>\n",
       "      <td>12.30</td>\n",
       "      <td>55.3</td>\n",
       "      <td>14500000000</td>\n",
       "      <td>0.006944</td>\n",
       "      <td>62.2</td>\n",
       "      <td>44.2</td>\n",
       "      <td>137000000000</td>\n",
       "      <td>0.045802</td>\n",
       "      <td>2.340</td>\n",
       "      <td>65.3</td>\n",
       "    </tr>\n",
       "  </tbody>\n",
       "</table>\n",
       "<p>5 rows × 40 columns</p>\n",
       "</div>"
      ],
      "text/plain": [
       "           arg_gdp  arg_gdp_change  arg_inf  arg_gin     bol_gdp  \\\n",
       "year                                                               \n",
       "1961  122000000000             NaN     20.3     41.4  4920000000   \n",
       "1962  121000000000       -0.008197     28.9     41.5  5190000000   \n",
       "1963  114000000000       -0.057851     25.6     40.7  5530000000   \n",
       "1964  126000000000        0.105263     28.8     40.0  5790000000   \n",
       "1965  139000000000        0.103175     21.2     39.4  6120000000   \n",
       "\n",
       "      bol_gdp_change  bol_inf  bol_gin       bra_gdp  bra_gdp_change  ...  \\\n",
       "year                                                                  ...   \n",
       "1961             NaN     6.56     46.2  273000000000             NaN  ...   \n",
       "1962        0.054878     3.57     47.1  287000000000        0.051282  ...   \n",
       "1963        0.065511     1.18     48.0  289000000000        0.006969  ...   \n",
       "1964        0.047016     7.52     48.7  300000000000        0.038062  ...   \n",
       "1965        0.056995     5.02     49.5  309000000000        0.030000  ...   \n",
       "\n",
       "      per_inf  per_gin      uru_gdp  uru_gdp_change  uru_inf  uru_gin  \\\n",
       "year                                                                    \n",
       "1961     3.10     57.5  14200000000             NaN     18.4     46.4   \n",
       "1962     3.01     57.4  14000000000       -0.014085     12.0     45.9   \n",
       "1963     5.01     57.0  14000000000        0.000000     19.9     45.3   \n",
       "1964    13.60     56.2  14400000000        0.028571     40.4     44.8   \n",
       "1965    12.30     55.3  14500000000        0.006944     62.2     44.2   \n",
       "\n",
       "           ven_gdp  ven_gdp_change  ven_inf  ven_gin  \n",
       "year                                                  \n",
       "1961  105000000000             NaN    0.469     63.4  \n",
       "1962  114000000000        0.085714    1.940     63.7  \n",
       "1963  118000000000        0.035088    3.950     64.2  \n",
       "1964  131000000000        0.110169    0.993     64.8  \n",
       "1965  137000000000        0.045802    2.340     65.3  \n",
       "\n",
       "[5 rows x 40 columns]"
      ]
     },
     "execution_count": 112,
     "metadata": {},
     "output_type": "execute_result"
    }
   ],
   "source": [
    "df_new.head()"
   ]
  },
  {
   "cell_type": "code",
   "execution_count": 113,
   "metadata": {},
   "outputs": [
    {
     "name": "stdout",
     "output_type": "stream",
     "text": [
      "<class 'pandas.core.frame.DataFrame'>\n",
      "Int64Index: 57 entries, 1961 to 2017\n",
      "Data columns (total 40 columns):\n",
      "arg_gdp           57 non-null int64\n",
      "arg_gdp_change    56 non-null float64\n",
      "arg_inf           57 non-null float64\n",
      "arg_gin           57 non-null float64\n",
      "bol_gdp           57 non-null int64\n",
      "bol_gdp_change    56 non-null float64\n",
      "bol_inf           57 non-null float64\n",
      "bol_gin           57 non-null float64\n",
      "bra_gdp           57 non-null int64\n",
      "bra_gdp_change    56 non-null float64\n",
      "bra_inf           57 non-null float64\n",
      "bra_gin           57 non-null float64\n",
      "chi_gdp           57 non-null int64\n",
      "chi_gdp_change    56 non-null float64\n",
      "chi_inf           57 non-null float64\n",
      "chi_gin           57 non-null float64\n",
      "col_gdp           57 non-null int64\n",
      "col_gdp_change    56 non-null float64\n",
      "col_inf           57 non-null float64\n",
      "col_gin           57 non-null float64\n",
      "ecu_gdp           57 non-null int64\n",
      "ecu_gdp_change    56 non-null float64\n",
      "ecu_inf           57 non-null float64\n",
      "ecu_gin           57 non-null float64\n",
      "par_gdp           57 non-null int64\n",
      "par_gdp_change    56 non-null float64\n",
      "par_inf           57 non-null float64\n",
      "par_gin           57 non-null float64\n",
      "per_gdp           57 non-null int64\n",
      "per_gdp_change    56 non-null float64\n",
      "per_inf           57 non-null float64\n",
      "per_gin           57 non-null float64\n",
      "uru_gdp           57 non-null int64\n",
      "uru_gdp_change    56 non-null float64\n",
      "uru_inf           57 non-null float64\n",
      "uru_gin           57 non-null float64\n",
      "ven_gdp           57 non-null int64\n",
      "ven_gdp_change    56 non-null float64\n",
      "ven_inf           57 non-null float64\n",
      "ven_gin           57 non-null float64\n",
      "dtypes: float64(30), int64(10)\n",
      "memory usage: 20.8 KB\n"
     ]
    }
   ],
   "source": [
    "df_new.info()"
   ]
  },
  {
   "cell_type": "code",
   "execution_count": null,
   "metadata": {},
   "outputs": [],
   "source": []
  }
 ],
 "metadata": {
  "kernelspec": {
   "display_name": "Python 3",
   "language": "python",
   "name": "python3"
  },
  "language_info": {
   "codemirror_mode": {
    "name": "ipython",
    "version": 3
   },
   "file_extension": ".py",
   "mimetype": "text/x-python",
   "name": "python",
   "nbconvert_exporter": "python",
   "pygments_lexer": "ipython3",
   "version": "3.7.3"
  }
 },
 "nbformat": 4,
 "nbformat_minor": 2
}
